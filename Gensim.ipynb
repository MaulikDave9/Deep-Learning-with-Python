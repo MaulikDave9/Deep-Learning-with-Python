{
  "cells": [
    {
      "cell_type": "markdown",
      "metadata": {
        "id": "z90AheHgPSrL"
      },
      "source": [
        "# Overview:  \n",
        "-Install Gensim          \n",
        "-Create tf-idf vectors from text  \n",
        "-Create model of our vectors  \n",
        "-Load vectors using Gensim api    \n",
        "-Load vector using Gensim word2vec (KeyedVectors)      \n",
        "Documentation: https://tedboy.github.io/nlps/api_gensim.html    "
      ]
    },
    {
      "cell_type": "markdown",
      "metadata": {
        "id": "5IBKTm7dPSrL"
      },
      "source": [
        "# Gensim\n",
        "Gensim is a Python software library located at:    \n",
        "https://radimrehurek.com/gensim/    \n",
        "It is an open-source library for unsupervised topic modeling and natural language processing using modern statistical machine learning.      \n",
        "Memory-wise, gensim makes heavy use of Python’s built-in generators and iterators for streamed data processing.        \n",
        "Claims to be memory efficient.    \n",
        "Usage:  Extracts underlying topics from large volumes of text.  "
      ]
    },
    {
      "cell_type": "markdown",
      "metadata": {
        "id": "y008ED0TPSrL"
      },
      "source": [
        "**What is term frequency–inverse document frequency (TF-IDF)?**\n",
        "\n",
        "Transform text into meaningful representation of numbers.  Used to extract features in NLP applications.    \n",
        "This is done by multiplying how many times a word appears in a document and the inverse document frequency of the word across a set of documents.    \n",
        "Formula:  \n",
        "(Number of times term t appears in a document) / (Total number of terms in the document)      \n",
        "IDF(t) = log_e(Total number of documents / Number of documents with term t in it)      \n",
        "\n",
        "**What is TF-IDF vectors?**    \n",
        "TF-IDF score represents the relative importance of a term in the document and the entire corpus.   "
      ]
    },
    {
      "cell_type": "markdown",
      "metadata": {
        "id": "Ey8DsSMePSrM"
      },
      "source": [
        "To install Gensim:\n",
        "\n",
        "Run in your terminal (recommended):\n",
        "\n",
        "`$ pip install --upgrade gensim`\n",
        "\n",
        "or, alternatively for conda environments:\n",
        "\n",
        "`$ conda install -c conda-forge gensim`\n",
        "\n",
        "Reference:\n",
        "https://radimrehurek.com/gensim/install.html"
      ]
    },
    {
      "cell_type": "code",
      "execution_count": 1,
      "metadata": {
        "colab": {
          "base_uri": "https://localhost:8080/"
        },
        "id": "iy_kk7acPSrM",
        "outputId": "f8b0fd67-c0f8-4ca0-d46a-ca0a6425503b"
      },
      "outputs": [
        {
          "output_type": "stream",
          "name": "stdout",
          "text": [
            "Collecting gensim\n",
            "  Downloading gensim-4.4.0-cp312-cp312-manylinux_2_24_x86_64.manylinux_2_28_x86_64.whl.metadata (8.4 kB)\n",
            "Requirement already satisfied: numpy>=1.18.5 in /usr/local/lib/python3.12/dist-packages (from gensim) (2.0.2)\n",
            "Requirement already satisfied: scipy>=1.7.0 in /usr/local/lib/python3.12/dist-packages (from gensim) (1.16.3)\n",
            "Requirement already satisfied: smart_open>=1.8.1 in /usr/local/lib/python3.12/dist-packages (from gensim) (7.4.1)\n",
            "Requirement already satisfied: wrapt in /usr/local/lib/python3.12/dist-packages (from smart_open>=1.8.1->gensim) (2.0.0)\n",
            "Downloading gensim-4.4.0-cp312-cp312-manylinux_2_24_x86_64.manylinux_2_28_x86_64.whl (27.9 MB)\n",
            "\u001b[2K   \u001b[90m━━━━━━━━━━━━━━━━━━━━━━━━━━━━━━━━━━━━━━━━\u001b[0m \u001b[32m27.9/27.9 MB\u001b[0m \u001b[31m24.9 MB/s\u001b[0m eta \u001b[36m0:00:00\u001b[0m\n",
            "\u001b[?25hInstalling collected packages: gensim\n",
            "Successfully installed gensim-4.4.0\n"
          ]
        }
      ],
      "source": [
        "!pip install --upgrade gensim"
      ]
    },
    {
      "cell_type": "code",
      "execution_count": 2,
      "metadata": {
        "id": "XeOnap_PPSrN"
      },
      "outputs": [],
      "source": [
        "import gensim, logging"
      ]
    },
    {
      "cell_type": "markdown",
      "metadata": {
        "id": "CKRtqZ3sPSrN"
      },
      "source": [
        "Define logging level. Only display warnings."
      ]
    },
    {
      "cell_type": "code",
      "execution_count": 3,
      "metadata": {
        "id": "GR3VLjiNPSrN"
      },
      "outputs": [],
      "source": [
        "logging.basicConfig(format='%(asctime)s: %levelname)s: %(message)s',level= logging.WARNING)"
      ]
    },
    {
      "cell_type": "markdown",
      "metadata": {
        "id": "NAKuSssnPSrN"
      },
      "source": [
        "Steps:  \n",
        "1.  Create a document\n",
        "2.  Split the sentence into words (word_tokenize or Python .split())\n",
        "3.  Create a corpora dictionary.  Map every word to a number.  \n",
        "4.  Create a bag-of-words corpus.  Words in documents are replaced with ids from dictionary.     \n",
        "5.  Create tf-idf model from corpus.  "
      ]
    },
    {
      "cell_type": "code",
      "execution_count": 4,
      "metadata": {
        "id": "4WcBErnyPSrN"
      },
      "outputs": [],
      "source": [
        "# 1.  Create a small document\n",
        "raw_documents = ['I love tacos.',\n",
        "             'She ran with the chicken.',\n",
        "             'I don’t choose to take a nap. The nap chooses me.',\n",
        "            'That man is nice as pie with ice cream.',\n",
        "            'This pizza is an affront to nature.']"
      ]
    },
    {
      "cell_type": "code",
      "execution_count": 5,
      "metadata": {
        "id": "v_TflqDxPSrO"
      },
      "outputs": [],
      "source": [
        "from nltk.tokenize import word_tokenize"
      ]
    },
    {
      "cell_type": "code",
      "execution_count": 6,
      "metadata": {
        "id": "rXAntC2IPSrO"
      },
      "outputs": [],
      "source": [
        "# 2.  Tokenize using NLTK word_tokenize\n",
        "def get_tokens(text):\n",
        "    tokens = word_tokenize(text)\n",
        "    return tokens"
      ]
    },
    {
      "cell_type": "code",
      "execution_count": 8,
      "metadata": {
        "colab": {
          "base_uri": "https://localhost:8080/"
        },
        "id": "GJOuiehCPSrO",
        "outputId": "74dcb6c8-e13b-4d5c-c50c-ce991b520047"
      },
      "outputs": [
        {
          "output_type": "stream",
          "name": "stderr",
          "text": [
            "[nltk_data] Downloading package punkt to /root/nltk_data...\n",
            "[nltk_data]   Package punkt is already up-to-date!\n",
            "[nltk_data] Downloading package punkt_tab to /root/nltk_data...\n",
            "[nltk_data]   Unzipping tokenizers/punkt_tab.zip.\n"
          ]
        },
        {
          "output_type": "stream",
          "name": "stdout",
          "text": [
            "[['I', 'love', 'tacos', '.'], ['She', 'ran', 'with', 'the', 'chicken', '.'], ['I', 'don', '’', 't', 'choose', 'to', 'take', 'a', 'nap', '.', 'The', 'nap', 'chooses', 'me', '.'], ['That', 'man', 'is', 'nice', 'as', 'pie', 'with', 'ice', 'cream', '.'], ['This', 'pizza', 'is', 'an', 'affront', 'to', 'nature', '.']]\n"
          ]
        }
      ],
      "source": [
        "import nltk\n",
        "nltk.download('punkt')\n",
        "nltk.download('punkt_tab') # Download the missing resource\n",
        "# A Gensim document (gen_docs) is a list of tokens for each sentence.\n",
        "# We could optionally make all of the tokens lower case.\n",
        "gen_docs = [get_tokens(text) for text in raw_documents]\n",
        "print(gen_docs)"
      ]
    },
    {
      "cell_type": "code",
      "execution_count": 9,
      "metadata": {
        "colab": {
          "base_uri": "https://localhost:8080/"
        },
        "id": "tDg8N726PSrO",
        "outputId": "00b6a265-72f3-489a-e256-223d8ec9110c"
      },
      "outputs": [
        {
          "output_type": "stream",
          "name": "stdout",
          "text": [
            "Num words in dictionary: 33\n",
            "0 .\n",
            "1 I\n",
            "2 love\n",
            "3 tacos\n",
            "4 She\n",
            "5 chicken\n",
            "6 ran\n",
            "7 the\n",
            "8 with\n",
            "9 The\n",
            "10 a\n",
            "11 choose\n",
            "12 chooses\n",
            "13 don\n",
            "14 me\n",
            "15 nap\n",
            "16 t\n",
            "17 take\n",
            "18 to\n",
            "19 ’\n",
            "20 That\n",
            "21 as\n",
            "22 cream\n",
            "23 ice\n",
            "24 is\n",
            "25 man\n",
            "26 nice\n",
            "27 pie\n",
            "28 This\n",
            "29 affront\n",
            "30 an\n",
            "31 nature\n",
            "32 pizza\n"
          ]
        }
      ],
      "source": [
        "# 3.  Create dictionary from the list of the document.\n",
        "# The dictionary maps every word to a number\n",
        "dictionary = gensim.corpora.Dictionary(gen_docs)\n",
        "num_words = len(dictionary)\n",
        "print(\"Num words in dictionary: {}\".format(num_words))\n",
        "for idx,word in dictionary.items():\n",
        "    print(idx,word)"
      ]
    },
    {
      "cell_type": "code",
      "execution_count": 10,
      "metadata": {
        "colab": {
          "base_uri": "https://localhost:8080/"
        },
        "id": "elFmmEpdPSrO",
        "outputId": "7ecdbc12-43ae-420a-a081-8aa86030336d"
      },
      "outputs": [
        {
          "output_type": "stream",
          "name": "stdout",
          "text": [
            "cream\n",
            "cream\n"
          ]
        }
      ],
      "source": [
        "# To convert from token id to string we have 2 ways:\n",
        "print(dictionary[22])\n",
        "print(dictionary.id2token[22])"
      ]
    },
    {
      "cell_type": "code",
      "execution_count": 11,
      "metadata": {
        "colab": {
          "base_uri": "https://localhost:8080/"
        },
        "id": "uOqqTti5PSrO",
        "outputId": "a9f50d13-9657-4b22-cdcf-9d4ceca48ffa"
      },
      "outputs": [
        {
          "output_type": "stream",
          "name": "stdout",
          "text": [
            "22\n"
          ]
        }
      ],
      "source": [
        "# Convert string to token id\n",
        "print(dictionary.token2id['cream'])"
      ]
    },
    {
      "cell_type": "code",
      "execution_count": 12,
      "metadata": {
        "colab": {
          "base_uri": "https://localhost:8080/"
        },
        "id": "rzev4c1fPSrO",
        "outputId": "28f5a180-d3cc-41c0-edd4-398e397b521c"
      },
      "outputs": [
        {
          "output_type": "stream",
          "name": "stdout",
          "text": [
            "[(1, 1), (2, 3), (3, 1)]\n"
          ]
        }
      ],
      "source": [
        "# 4.  Create bag of words\n",
        "# A bag of words is a term frequency (tf) of tf-idf\n",
        "# Called a \"bag of words\" because order is lost\n",
        "# Note that \"!\" is not listed because it is not in the dictionary\n",
        "bow_doc = dictionary.doc2bow(['I','love','love','love','tacos','!'])\n",
        "print(bow_doc)"
      ]
    },
    {
      "cell_type": "code",
      "execution_count": 13,
      "metadata": {
        "colab": {
          "base_uri": "https://localhost:8080/"
        },
        "id": "n_GxjgUpPSrO",
        "outputId": "67e778ec-1579-4d23-c854-d8c375bc8d4a"
      },
      "outputs": [
        {
          "output_type": "stream",
          "name": "stdout",
          "text": [
            "[[(0, 1), (1, 1), (2, 1), (3, 1)], [(0, 1), (4, 1), (5, 1), (6, 1), (7, 1), (8, 1)], [(0, 2), (1, 1), (9, 1), (10, 1), (11, 1), (12, 1), (13, 1), (14, 1), (15, 2), (16, 1), (17, 1), (18, 1), (19, 1)], [(0, 1), (8, 1), (20, 1), (21, 1), (22, 1), (23, 1), (24, 1), (25, 1), (26, 1), (27, 1)], [(0, 1), (18, 1), (24, 1), (28, 1), (29, 1), (30, 1), (31, 1), (32, 1)]]\n",
            "[['I', 'love', 'tacos', '.'], ['She', 'ran', 'with', 'the', 'chicken', '.'], ['I', 'don', '’', 't', 'choose', 'to', 'take', 'a', 'nap', '.', 'The', 'nap', 'chooses', 'me', '.'], ['That', 'man', 'is', 'nice', 'as', 'pie', 'with', 'ice', 'cream', '.'], ['This', 'pizza', 'is', 'an', 'affront', 'to', 'nature', '.']]\n"
          ]
        }
      ],
      "source": [
        "# 4.  Create bag of words from gen_docs\n",
        "# A corpus is a list of bags of words\n",
        "corpus = [dictionary.doc2bow(gen_doc) for gen_doc in gen_docs]\n",
        "print(corpus)\n",
        "print(gen_docs)"
      ]
    },
    {
      "cell_type": "code",
      "execution_count": 14,
      "metadata": {
        "colab": {
          "base_uri": "https://localhost:8080/"
        },
        "id": "zKhUTo8hPSrO",
        "outputId": "24b7ad5e-6382-4363-d4ec-7737dac73a8a"
      },
      "outputs": [
        {
          "output_type": "stream",
          "name": "stdout",
          "text": [
            "TfidfModel<num_docs=5, num_nnz=41>\n"
          ]
        }
      ],
      "source": [
        "# 5.  Create tf-idf model from corpus\n",
        "# num_nnz is the number of tokens\n",
        "tf_idf = gensim.models.TfidfModel(corpus)\n",
        "print(tf_idf)"
      ]
    },
    {
      "cell_type": "code",
      "execution_count": 15,
      "metadata": {
        "colab": {
          "base_uri": "https://localhost:8080/"
        },
        "id": "iX3L3ctCPSrO",
        "outputId": "05caad78-5215-465e-e5bb-f2977a315765"
      },
      "outputs": [
        {
          "output_type": "stream",
          "name": "stdout",
          "text": [
            "['I', 'love', 'tacos', '.']\n",
            "[(0, 1), (1, 1), (2, 1), (3, 1)]\n",
            "[(1, np.float64(0.37344696513776354)), (2, np.float64(0.6559486886294514)), (3, np.float64(0.6559486886294514))]\n"
          ]
        }
      ],
      "source": [
        "# Show document in text form, bag of words, and tf-idf\n",
        "# 0 is tacos, 1 is love, 2 is I\n",
        "# Value for I is lower because occurs multiple times.\n",
        "# Value for '.' is 0 because it occurs in all sentences and log_2(1) = 0.\n",
        "# Vectors are normalized so they sum to 1\n",
        "print(gen_docs[0]) # our document (one sentence)\n",
        "print(corpus[0])   # the corpus tokenized\n",
        "print(tf_idf[corpus][0])  #"
      ]
    },
    {
      "cell_type": "code",
      "execution_count": 16,
      "metadata": {
        "colab": {
          "base_uri": "https://localhost:8080/"
        },
        "id": "fsiU83wGPSrP",
        "outputId": "743d92df-6924-4724-c937-1f7be71cc25a"
      },
      "outputs": [
        {
          "output_type": "stream",
          "name": "stdout",
          "text": [
            "[(0, 1), (1, 1), (2, 1), (32, 1)]\n",
            "[(1, np.float64(0.37344696513776354)), (2, np.float64(0.6559486886294514)), (32, np.float64(0.6559486886294514))]\n"
          ]
        }
      ],
      "source": [
        "# Show bag of words and tf-idf for new document\n",
        "bow = dictionary.doc2bow(['I','love','pizza','.'])\n",
        "print(bow)\n",
        "print(tf_idf[bow])"
      ]
    },
    {
      "cell_type": "code",
      "execution_count": 18,
      "metadata": {
        "colab": {
          "base_uri": "https://localhost:8080/"
        },
        "id": "-qfSdF6ZPSrP",
        "outputId": "3a17fb87-c03a-450f-f040-a2f0ccb78fcc"
      },
      "outputs": [
        {
          "output_type": "stream",
          "name": "stdout",
          "text": [
            "[2.32192809 2.32192809 1.32192809]\n",
            "3.539801413032522\n",
            "[0.65594869 0.65594869 0.37344697]\n"
          ]
        }
      ],
      "source": [
        "# This is just a confirmation. Create tf-idf vector manually. Left as an exercise.\n",
        "# idf if it occurs once in corpus (like \"tacos\" and \"love\")\n",
        "# idf if it occurs twice in corpus (like \"I\")\n",
        "from math import log\n",
        "num_docs = tf_idf.num_docs\n",
        "idf_1 = log(num_docs/1,2)\n",
        "idf_2 = log(num_docs/2,2)\n",
        "# only show nonzero values, and use numpy array\n",
        "import numpy as np\n",
        "v = np.array([idf_1,idf_1,idf_2])\n",
        "print(v)\n",
        "# normalize to the length is 1\n",
        "norm_v = np.linalg.norm(v)\n",
        "print(norm_v)\n",
        "# Show normalized vector\n",
        "print(v/norm_v)"
      ]
    },
    {
      "cell_type": "code",
      "execution_count": 19,
      "metadata": {
        "colab": {
          "base_uri": "https://localhost:8080/"
        },
        "id": "nfl6_0oKPSrP",
        "outputId": "b1bcd978-4339-44ba-9a94-163c990ce1fc"
      },
      "outputs": [
        {
          "output_type": "stream",
          "name": "stdout",
          "text": [
            "Similarity<5 documents in 0 shards stored under tfidf/>\n"
          ]
        }
      ],
      "source": [
        "# Create similarity measure object in tf-idf space\n",
        "# First arg is temp external storage\n",
        "# https://radimrehurek.com/gensim/similarities/docsim.html\n",
        "sims = gensim.similarities.Similarity('tfidf/',tf_idf[corpus],\n",
        "                                      num_features=len(dictionary))\n",
        "print(sims)"
      ]
    },
    {
      "cell_type": "code",
      "execution_count": 20,
      "metadata": {
        "colab": {
          "base_uri": "https://localhost:8080/"
        },
        "id": "-YTei_VXPSrP",
        "outputId": "01c7ba69-1409-4013-a40b-615bcf535603"
      },
      "outputs": [
        {
          "output_type": "stream",
          "name": "stdout",
          "text": [
            "['chicken', 'with', 'tacos', 'love']\n",
            "[(2, 1), (3, 1), (5, 1), (8, 1)]\n",
            "[(2, np.float64(0.5484803253891997)), (3, np.float64(0.5484803253891997)), (5, np.float64(0.5484803253891997)), (8, np.float64(0.31226270667960454))]\n"
          ]
        }
      ],
      "source": [
        "# Create query document and convert to tf-idf\n",
        "# doc shares two words with each of first two docs in corpus\n",
        "query_doc = \"chicken with tacos love\".split()\n",
        "print(query_doc)\n",
        "query_doc_bow = dictionary.doc2bow(query_doc)\n",
        "print(query_doc_bow)\n",
        "query_doc_tf_idf = tf_idf[query_doc_bow]\n",
        "print(query_doc_tf_idf)"
      ]
    },
    {
      "cell_type": "code",
      "execution_count": null,
      "metadata": {
        "id": "HzQBzT5pPSrP"
      },
      "outputs": [],
      "source": [
        "# You might have to create tfidf directory in the directory where this notebook resides.\n",
        "# Uncomment the next line and run, if the following line gives you an error.\n",
        "# !mkdir tfidf"
      ]
    },
    {
      "cell_type": "code",
      "execution_count": 21,
      "metadata": {
        "id": "bq7XSkIbPSrP"
      },
      "outputs": [],
      "source": [
        "!mkdir tfidf"
      ]
    },
    {
      "cell_type": "code",
      "execution_count": 22,
      "metadata": {
        "colab": {
          "base_uri": "https://localhost:8080/"
        },
        "id": "fpBBGPKkPSrP",
        "outputId": "1f2a5be8-bd4d-4076-dbc6-efb03d9139c8"
      },
      "outputs": [
        {
          "output_type": "execute_result",
          "data": {
            "text/plain": [
              "array([0.7195499 , 0.34925455, 0.        , 0.06428327, 0.        ],\n",
              "      dtype=float32)"
            ]
          },
          "metadata": {},
          "execution_count": 22
        }
      ],
      "source": [
        "# Show array of document similarities to query\n",
        "# Also both document 0 and 1 match with two words each,\n",
        "# document 1 matches with word \"with\" that occurs twice in corpus.\n",
        "# Only one overlapping word with the fourth document\n",
        "sims[query_doc_tf_idf]"
      ]
    },
    {
      "cell_type": "markdown",
      "metadata": {
        "id": "xr9MU_QePSrP"
      },
      "source": [
        "# Load vectors using gensim"
      ]
    },
    {
      "cell_type": "markdown",
      "metadata": {
        "id": "na5byzhePSrP"
      },
      "source": [
        "Example 1: Using gensim api"
      ]
    },
    {
      "cell_type": "code",
      "execution_count": 23,
      "metadata": {
        "colab": {
          "base_uri": "https://localhost:8080/"
        },
        "id": "ri3An3ulPSrP",
        "outputId": "e7b7d2b2-c3c7-4b4a-bcea-c99d6298176b"
      },
      "outputs": [
        {
          "output_type": "stream",
          "name": "stdout",
          "text": [
            "[==================================================] 100.0% 128.1/128.1MB downloaded\n"
          ]
        }
      ],
      "source": [
        "#Load vectors using the gensim api\n",
        "import gensim.downloader as api\n",
        "word_vectors = api.load(\"glove-wiki-gigaword-100\")  # load pre-trained word-vectors from gensim-data"
      ]
    },
    {
      "cell_type": "markdown",
      "metadata": {
        "id": "zlz3sRhmPSrP"
      },
      "source": [
        "Find properties of data (similar, doesn't match, analogy)"
      ]
    },
    {
      "cell_type": "code",
      "execution_count": 24,
      "metadata": {
        "colab": {
          "base_uri": "https://localhost:8080/"
        },
        "id": "EiO3FmiiPSrP",
        "outputId": "dbb7687b-1330-4640-ca6f-c739f717dfde"
      },
      "outputs": [
        {
          "output_type": "stream",
          "name": "stdout",
          "text": [
            "queen: 0.7699\n"
          ]
        }
      ],
      "source": [
        "result = word_vectors.most_similar(positive=['woman', 'king'], negative=['man'])\n",
        "print(\"{}: {:.4f}\".format(*result[0]))"
      ]
    },
    {
      "cell_type": "code",
      "execution_count": 25,
      "metadata": {
        "colab": {
          "base_uri": "https://localhost:8080/"
        },
        "id": "8J2wBO5pPSrQ",
        "outputId": "58307007-e766-4815-f093-9440ffac91fe"
      },
      "outputs": [
        {
          "output_type": "stream",
          "name": "stdout",
          "text": [
            "cereal\n"
          ]
        }
      ],
      "source": [
        "print(word_vectors.doesnt_match(\"breakfast cereal dinner lunch\".split()))"
      ]
    },
    {
      "cell_type": "code",
      "execution_count": 26,
      "metadata": {
        "colab": {
          "base_uri": "https://localhost:8080/"
        },
        "id": "EITQdhl3PSrQ",
        "outputId": "62e29a6b-5d49-4698-da17-4b29843eb9bb"
      },
      "outputs": [
        {
          "output_type": "execute_result",
          "data": {
            "text/plain": [
              "np.True_"
            ]
          },
          "metadata": {},
          "execution_count": 26
        }
      ],
      "source": [
        "similarity = word_vectors.similarity('woman', 'man')\n",
        "similarity> .80"
      ]
    },
    {
      "cell_type": "code",
      "execution_count": 27,
      "metadata": {
        "colab": {
          "base_uri": "https://localhost:8080/"
        },
        "id": "-a7HjuMVPSrQ",
        "outputId": "6ee89f40-7a41-4dca-ac48-adfaa24d931d"
      },
      "outputs": [
        {
          "output_type": "execute_result",
          "data": {
            "text/plain": [
              "np.False_"
            ]
          },
          "metadata": {},
          "execution_count": 27
        }
      ],
      "source": [
        "similarity> .90"
      ]
    },
    {
      "cell_type": "code",
      "execution_count": 28,
      "metadata": {
        "colab": {
          "base_uri": "https://localhost:8080/"
        },
        "id": "MBjUUs0bPSrQ",
        "outputId": "70813e51-e068-45fa-f222-8f1c5c203ac6"
      },
      "outputs": [
        {
          "output_type": "stream",
          "name": "stdout",
          "text": [
            "dog: 0.8798\n"
          ]
        }
      ],
      "source": [
        "result = word_vectors.similar_by_word(\"cat\")\n",
        "print(\"{}: {:.4f}\".format(*result[0]))"
      ]
    },
    {
      "cell_type": "code",
      "execution_count": 29,
      "metadata": {
        "colab": {
          "base_uri": "https://localhost:8080/"
        },
        "id": "747OuIH3PSrQ",
        "outputId": "18d2542a-5c85-4726-eb00-9f1d1f4f777a"
      },
      "outputs": [
        {
          "output_type": "stream",
          "name": "stdout",
          "text": [
            "0.64570683\n"
          ]
        }
      ],
      "source": [
        "similarity = word_vectors.n_similarity(['france', 'russia'], ['paris'])\n",
        "print(similarity)"
      ]
    },
    {
      "cell_type": "markdown",
      "metadata": {
        "id": "MoWWLEu4PSrQ"
      },
      "source": [
        "Example: 2  Using gensim word2vec  "
      ]
    },
    {
      "cell_type": "markdown",
      "metadata": {
        "id": "taGN4XbtPSrU"
      },
      "source": [
        "This examples uses: vector_sm.txt"
      ]
    },
    {
      "cell_type": "code",
      "execution_count": 35,
      "metadata": {
        "scrolled": true,
        "colab": {
          "base_uri": "https://localhost:8080/"
        },
        "id": "MemWF679PSrU",
        "outputId": "3cfb28a8-4542-47a2-9672-75db05053e58"
      },
      "outputs": [
        {
          "output_type": "stream",
          "name": "stdout",
          "text": [
            "Drive already mounted at /content/drive; to attempt to forcibly remount, call drive.mount(\"/content/drive\", force_remount=True).\n",
            "'/content/drive/My Drive/Colab Notebooks/Deep Learning/Week 8/vector_sm.txt'\n"
          ]
        }
      ],
      "source": [
        "from google.colab import drive\n",
        "drive.mount('/content/drive')\n",
        "\n",
        "!ls '/content/drive/My Drive/Colab Notebooks/Deep Learning/Week 8/vector_sm.txt'"
      ]
    },
    {
      "cell_type": "markdown",
      "metadata": {
        "id": "HHKX0f8IPSrU"
      },
      "source": [
        "**A line from vector.txt**  \n",
        "71291 300  \n",
        "</s> 0.001334 0.001473 -0.001277 ...  \n",
        "santamaria -0.328541 0.143057 0.200979 0.176212 -0.043703 0.132309 -0.022670 0.268999 -0.098336      \n",
        "Example as numpy array:  \n",
        "array([0.7195499 , 0.34925455, 0.        , 0.06428327, 0.        ],\n",
        "      dtype=float32)"
      ]
    },
    {
      "cell_type": "code",
      "execution_count": 31,
      "metadata": {
        "id": "Kout43nrPSrU"
      },
      "outputs": [],
      "source": [
        "from gensim.models import Word2Vec"
      ]
    },
    {
      "cell_type": "code",
      "execution_count": 36,
      "metadata": {
        "id": "5aFnF2lfPSrU"
      },
      "outputs": [],
      "source": [
        "#KeyedVectors is a mapping between entities and vectors.  Each entity is identified by its string id\n",
        "#and is a mapping between str to 1D numpy array.\n",
        "#Used your own vector file below.  You can also inclulde binary and change binary=True.\n",
        "# Modify next line to add in your vector  (vector_sm.txt is a very small subset of data.)\n",
        "model = gensim.models.KeyedVectors.load_word2vec_format('/content/drive/My Drive/Colab Notebooks/Deep Learning/Week 8/vector_sm.txt',binary=False)\n",
        "#model = gensim.models.KeyedVectors.load_word2vec_format('vector.txt',binary=False)"
      ]
    },
    {
      "cell_type": "code",
      "execution_count": 37,
      "metadata": {
        "colab": {
          "base_uri": "https://localhost:8080/"
        },
        "id": "yXqZpkZ7PSrU",
        "outputId": "835771f5-c1cb-4b5a-aded-23714fc40299"
      },
      "outputs": [
        {
          "output_type": "stream",
          "name": "stdout",
          "text": [
            "KeyedVectors<vector_size=300, 71291 keys>\n"
          ]
        }
      ],
      "source": [
        "print(model)"
      ]
    },
    {
      "cell_type": "markdown",
      "metadata": {
        "id": "dt3RsMntPSrV"
      },
      "source": [
        "Examine the vocabulary as a numpy array"
      ]
    },
    {
      "cell_type": "code",
      "execution_count": 38,
      "metadata": {
        "colab": {
          "base_uri": "https://localhost:8080/"
        },
        "id": "cBMaAiehPSrV",
        "outputId": "9824951a-73b9-411c-e7cd-f966a2e17ce2"
      },
      "outputs": [
        {
          "output_type": "execute_result",
          "data": {
            "text/plain": [
              "array([-1.310472, -0.118349,  0.325203, -0.005226, -1.71399 , -0.377479,\n",
              "       -0.195302,  1.629318, -0.544425,  2.083786,  1.270062,  0.372316,\n",
              "       -0.498407, -0.805709, -1.644648,  0.22422 ,  1.594818, -0.338768,\n",
              "        1.432292,  0.955288, -0.955378,  0.53595 , -0.068106,  0.837341,\n",
              "        1.591408,  0.5361  , -0.843911,  1.673636,  0.742391,  3.289546,\n",
              "       -2.149769,  1.021105,  1.356108,  1.48726 ,  1.001601,  1.640551,\n",
              "        0.124077, -1.145721,  0.994881,  1.194023, -1.847082, -1.138145,\n",
              "       -3.285749, -0.395182,  1.406201, -0.864013,  1.006653, -0.100085,\n",
              "       -1.7179  ,  1.311247,  0.184717, -1.052134, -1.103808,  1.66872 ,\n",
              "        0.8163  ,  0.472781, -0.193645,  1.877924,  1.023917,  0.554145,\n",
              "        0.322611, -0.262208, -2.198101,  1.446186,  2.028531, -0.834731,\n",
              "       -2.680774,  0.488116,  1.95939 ,  1.393503, -0.352954, -4.556821,\n",
              "        0.114998,  2.537201,  0.894442, -1.48793 , -0.413234, -0.958989,\n",
              "       -0.625972, -0.832496,  0.776001,  0.110887, -1.867593,  0.298236,\n",
              "        0.098001,  0.891239,  0.168199, -0.77726 , -2.009681,  1.289176,\n",
              "       -0.265089,  1.456993, -1.032172, -1.471717,  0.334134, -0.561176,\n",
              "        0.462872,  1.331571, -1.260484,  1.616325,  0.580869,  0.850394,\n",
              "        0.338235, -1.178822,  0.343383, -2.507562,  0.261882, -0.457501,\n",
              "       -0.815615,  0.560006, -2.065677, -0.97625 , -0.259918,  0.407517,\n",
              "        0.079662,  0.537177,  0.865157,  1.130625, -2.238104,  1.168731,\n",
              "       -0.949505, -0.448123,  2.391729, -0.973925, -0.221788, -1.373287,\n",
              "        0.330664, -1.399476,  0.15865 ,  0.242207, -2.101864,  1.462454,\n",
              "       -0.677589,  0.123494, -0.706023,  0.955981, -0.93975 ,  1.191165,\n",
              "        2.328434,  1.18489 ,  0.791878, -1.238279, -0.510451,  0.691101,\n",
              "       -1.775829,  1.224493, -0.130765, -1.193155,  1.067394,  0.336304,\n",
              "        0.201356, -1.673874,  1.452666, -0.791647,  1.02116 ,  1.027503,\n",
              "       -0.80325 , -0.576286, -0.444796,  2.357602,  0.042984,  0.062924,\n",
              "        1.503004,  1.997601,  1.024141,  0.517468, -0.072108,  0.548282,\n",
              "       -1.219559, -0.354182,  0.441227,  1.123682,  2.176704, -0.194266,\n",
              "       -0.649052,  2.285715,  0.882712, -0.350835,  2.066152, -1.833878,\n",
              "        0.212457,  0.474172,  0.915779, -0.411835, -1.747329,  1.104344,\n",
              "        1.39845 , -0.918834,  0.926877, -0.107127,  0.376227,  1.331707,\n",
              "        1.940949, -0.015371, -0.228873, -1.958971,  1.721563, -1.341133,\n",
              "       -1.907327, -1.211495,  0.151906,  0.372603, -0.99265 ,  1.578976,\n",
              "        0.037372,  0.539527, -0.778996, -0.732504,  1.002787, -1.48473 ,\n",
              "       -2.016191,  0.336355, -4.522809, -0.193296,  1.437902,  0.53084 ,\n",
              "       -1.749101, -0.523541, -0.222426, -0.197071,  0.133896,  0.839687,\n",
              "       -0.51809 ,  3.106005,  0.547039,  0.474159,  1.508827, -0.67756 ,\n",
              "        0.367053, -0.366725,  0.742124, -0.594548,  1.506195,  3.471024,\n",
              "        0.696574,  0.451755, -0.528563, -2.001438, -0.39558 , -2.144378,\n",
              "       -0.004702,  0.632145, -0.062599,  0.081691,  0.865633,  0.75022 ,\n",
              "        1.538039, -1.300762,  0.553441, -0.567715,  0.954407,  2.325343,\n",
              "        2.43477 ,  0.611769, -1.025819, -0.165309, -1.252972, -2.667454,\n",
              "       -1.040206, -0.308428,  0.480873, -0.05306 ,  0.266247, -0.907429,\n",
              "       -0.077148,  1.59629 , -2.232895,  1.067918,  0.125695, -0.167481,\n",
              "        1.216003, -0.980129, -0.849807, -0.352692,  0.741453,  0.830609,\n",
              "        1.46996 , -2.407771,  1.660043, -1.142528,  0.817983,  0.118808,\n",
              "        0.636821,  1.563633, -0.768137, -0.832665,  1.433546, -1.985979,\n",
              "       -0.171207,  3.842281,  2.804385, -0.108294, -1.379712,  0.82708 ,\n",
              "       -1.12838 , -0.795459, -0.03663 ,  0.595114, -0.258219, -0.224687],\n",
              "      dtype=float32)"
            ]
          },
          "metadata": {},
          "execution_count": 38
        }
      ],
      "source": [
        "#model.vocab\n",
        "\n",
        "words = list(model.key_to_index.keys())\n",
        "words = model.index_to_key\n",
        "vector = model[word]\n",
        "vector"
      ]
    },
    {
      "cell_type": "markdown",
      "metadata": {
        "id": "iYWD81-NPSrV"
      },
      "source": [
        "Examine the shape of the matrix"
      ]
    },
    {
      "cell_type": "code",
      "execution_count": 39,
      "metadata": {
        "colab": {
          "base_uri": "https://localhost:8080/"
        },
        "id": "cr41qZJVPSrV",
        "outputId": "1a011cee-fb86-4e2f-c071-155c9dd9e083"
      },
      "outputs": [
        {
          "output_type": "execute_result",
          "data": {
            "text/plain": [
              "(71291, 300)"
            ]
          },
          "metadata": {},
          "execution_count": 39
        }
      ],
      "source": [
        "model.vectors.shape"
      ]
    },
    {
      "cell_type": "markdown",
      "metadata": {
        "id": "3WW93802PSrV"
      },
      "source": [
        "Retrieve the vectors of individual words"
      ]
    },
    {
      "cell_type": "code",
      "execution_count": 40,
      "metadata": {
        "colab": {
          "base_uri": "https://localhost:8080/"
        },
        "id": "b9JAhiqTPSrV",
        "outputId": "275fe9f5-d3d5-478b-a5b0-810f5a599746"
      },
      "outputs": [
        {
          "output_type": "execute_result",
          "data": {
            "text/plain": [
              "(300,)"
            ]
          },
          "metadata": {},
          "execution_count": 40
        }
      ],
      "source": [
        "model['fire'].shape"
      ]
    },
    {
      "cell_type": "code",
      "execution_count": 41,
      "metadata": {
        "colab": {
          "base_uri": "https://localhost:8080/"
        },
        "id": "WmXx8ma_PSrV",
        "outputId": "4e8c0106-59ae-408b-de3a-391f0e8a60f3"
      },
      "outputs": [
        {
          "output_type": "execute_result",
          "data": {
            "text/plain": [
              "array([-1.662234,  0.604078, -3.122537,  1.535989,  1.123752,  0.031915,\n",
              "       -1.284593,  0.07871 , -0.021927,  1.184942], dtype=float32)"
            ]
          },
          "metadata": {},
          "execution_count": 41
        }
      ],
      "source": [
        "model['house'][:10]"
      ]
    },
    {
      "cell_type": "code",
      "execution_count": 42,
      "metadata": {
        "colab": {
          "base_uri": "https://localhost:8080/"
        },
        "id": "cTt_8rD3PSrV",
        "outputId": "b3db08e7-80ab-47fe-fd79-6e35cd5fe9a1"
      },
      "outputs": [
        {
          "output_type": "execute_result",
          "data": {
            "text/plain": [
              "array([ 0.25062 , -0.420875, -1.628221, -1.038453,  0.557791,  0.478556,\n",
              "        1.470237, -0.198495, -1.811532,  0.945193], dtype=float32)"
            ]
          },
          "metadata": {},
          "execution_count": 42
        }
      ],
      "source": [
        "model['fire'][:10]"
      ]
    },
    {
      "cell_type": "markdown",
      "metadata": {
        "id": "8ilrYRkBPSrV"
      },
      "source": [
        "Return a tuple with 2 items:    \n",
        "numpy array with the indexes of the similar words in the vocabulary and cosine similarity to each word.      "
      ]
    },
    {
      "cell_type": "code",
      "execution_count": 43,
      "metadata": {
        "colab": {
          "base_uri": "https://localhost:8080/"
        },
        "id": "SaH_gKeJPSrV",
        "outputId": "796be792-a1fb-49f9-ac2a-7e69be3401f7"
      },
      "outputs": [
        {
          "output_type": "stream",
          "name": "stdout",
          "text": [
            "[('empress', 0.49833980202674866), ('emperors', 0.4949486255645752), ('theodora', 0.43202951550483704), ('fushimi', 0.42215171456336975), ('valentinian', 0.39994004368782043), ('empresses', 0.3943522572517395), ('suiko', 0.3869629502296448), ('pope', 0.3867180049419403), ('throne', 0.3856024742126465), ('saimei', 0.381815105676651)]\n"
          ]
        }
      ],
      "source": [
        "most_similar=model.most_similar(positive=['emperor', 'woman'], negative=['man'])\n",
        "print(most_similar)"
      ]
    },
    {
      "cell_type": "code",
      "execution_count": 44,
      "metadata": {
        "colab": {
          "base_uri": "https://localhost:8080/"
        },
        "id": "fNHxf43RPSrV",
        "outputId": "47c9c3e3-b15a-4b3a-a94b-0ad39212d154"
      },
      "outputs": [
        {
          "output_type": "stream",
          "name": "stdout",
          "text": [
            "[('elizabeth', 0.5374570488929749), ('king', 0.49853524565696716), ('boleyn', 0.45492681860923767), ('gracen', 0.45339256525039673), ('infanta', 0.4517417848110199)]\n"
          ]
        }
      ],
      "source": [
        "most_similar2 = model.most_similar('queen', topn=5)\n",
        "print(most_similar2)"
      ]
    },
    {
      "cell_type": "code",
      "execution_count": 45,
      "metadata": {
        "colab": {
          "base_uri": "https://localhost:8080/"
        },
        "id": "-804Dbp5PSrV",
        "outputId": "e1e6a300-4805-4d2f-966f-e94f5cab7bbe"
      },
      "outputs": [
        {
          "output_type": "stream",
          "name": "stdout",
          "text": [
            "0.00\n"
          ]
        }
      ],
      "source": [
        "distance = model.distance(\"media\", \"media\")\n",
        "print(\"{:.2f}\".format(distance))"
      ]
    },
    {
      "cell_type": "code",
      "execution_count": 46,
      "metadata": {
        "colab": {
          "base_uri": "https://localhost:8080/"
        },
        "id": "leC73eE6PSrW",
        "outputId": "4ac1dafa-8b82-4a7a-e46e-a8732a0fb3b1"
      },
      "outputs": [
        {
          "output_type": "stream",
          "name": "stdout",
          "text": [
            "[('queen', 0.5036637187004089), ('marries', 0.4303651452064514), ('betrothed', 0.4289798438549042), ('consort', 0.41862085461616516), ('daughter', 0.41833433508872986), ('anjou', 0.4096809923648834), ('infanta', 0.40592390298843384), ('heiress', 0.40402916073799133), ('montferrat', 0.4031989574432373), ('isabella', 0.4021216630935669)]\n"
          ]
        }
      ],
      "source": [
        "analogy = model.most_similar(positive=['woman','king'],negative=['man'])\n",
        "print(analogy)"
      ]
    },
    {
      "cell_type": "code",
      "execution_count": 47,
      "metadata": {
        "id": "3sJCCZyQPSrW"
      },
      "outputs": [],
      "source": [
        "import numpy as np\n",
        "import gensim\n",
        "# Get the interactive Tools for Matplotlib\n",
        "%matplotlib notebook\n",
        "import matplotlib.pyplot as plt\n",
        "plt.style.use('ggplot')\n",
        "from sklearn.decomposition import PCA\n",
        "from gensim.test.utils import datapath, get_tmpfile\n",
        "from gensim.models import KeyedVectors\n",
        "from gensim.scripts.glove2word2vec import glove2word2vec"
      ]
    },
    {
      "cell_type": "code",
      "execution_count": 48,
      "metadata": {
        "id": "ihxBmuloPSrW"
      },
      "outputs": [],
      "source": [
        "def display_pca_scatterplot(model, words=None, sample=0):\n",
        "    if words == None:\n",
        "        if sample > 0:\n",
        "            words = np.random.choice(list(model.vocab.keys()), sample)\n",
        "        else:\n",
        "            words = [ word for word in model.vocab ]\n",
        "    word_vectors = np.array([model[w] for w in words])\n",
        "    twodim = PCA().fit_transform(word_vectors)[:,:2]\n",
        "    plt.figure(figsize=(6,6))\n",
        "    plt.scatter(twodim[:,0], twodim[:,1], edgecolors='k', c='r')\n",
        "    for word, (x,y) in zip(words, twodim):\n",
        "        plt.text(x+0.05, y+0.05, word)\n",
        "    for i in range(0, len(twodim), 2):\n",
        "        plt.plot(twodim[:,0][i:i+2], twodim[:,1][i:i+2], 'bo-')"
      ]
    },
    {
      "cell_type": "code",
      "execution_count": 49,
      "metadata": {
        "colab": {
          "base_uri": "https://localhost:8080/",
          "height": 17
        },
        "id": "XTj8cgAnPSrW",
        "outputId": "13ea1183-e10f-45fe-ed00-4c58430ba039"
      },
      "outputs": [
        {
          "output_type": "display_data",
          "data": {
            "text/plain": [
              "<IPython.core.display.Javascript object>"
            ],
            "application/javascript": [
              "/* Put everything inside the global mpl namespace */\n",
              "/* global mpl */\n",
              "window.mpl = {};\n",
              "\n",
              "mpl.get_websocket_type = function () {\n",
              "    if (typeof WebSocket !== 'undefined') {\n",
              "        return WebSocket;\n",
              "    } else if (typeof MozWebSocket !== 'undefined') {\n",
              "        return MozWebSocket;\n",
              "    } else {\n",
              "        alert(\n",
              "            'Your browser does not have WebSocket support. ' +\n",
              "                'Please try Chrome, Safari or Firefox ≥ 6. ' +\n",
              "                'Firefox 4 and 5 are also supported but you ' +\n",
              "                'have to enable WebSockets in about:config.'\n",
              "        );\n",
              "    }\n",
              "};\n",
              "\n",
              "mpl.figure = function (figure_id, websocket, ondownload, parent_element) {\n",
              "    this.id = figure_id;\n",
              "\n",
              "    this.ws = websocket;\n",
              "\n",
              "    this.supports_binary = this.ws.binaryType !== undefined;\n",
              "\n",
              "    if (!this.supports_binary) {\n",
              "        var warnings = document.getElementById('mpl-warnings');\n",
              "        if (warnings) {\n",
              "            warnings.style.display = 'block';\n",
              "            warnings.textContent =\n",
              "                'This browser does not support binary websocket messages. ' +\n",
              "                'Performance may be slow.';\n",
              "        }\n",
              "    }\n",
              "\n",
              "    this.imageObj = new Image();\n",
              "\n",
              "    this.context = undefined;\n",
              "    this.message = undefined;\n",
              "    this.canvas = undefined;\n",
              "    this.rubberband_canvas = undefined;\n",
              "    this.rubberband_context = undefined;\n",
              "    this.format_dropdown = undefined;\n",
              "\n",
              "    this.image_mode = 'full';\n",
              "\n",
              "    this.root = document.createElement('div');\n",
              "    this.root.setAttribute('style', 'display: inline-block');\n",
              "    this._root_extra_style(this.root);\n",
              "\n",
              "    parent_element.appendChild(this.root);\n",
              "\n",
              "    this._init_header(this);\n",
              "    this._init_canvas(this);\n",
              "    this._init_toolbar(this);\n",
              "\n",
              "    var fig = this;\n",
              "\n",
              "    this.waiting = false;\n",
              "\n",
              "    this.ws.onopen = function () {\n",
              "        fig.send_message('supports_binary', { value: fig.supports_binary });\n",
              "        fig.send_message('send_image_mode', {});\n",
              "        if (fig.ratio !== 1) {\n",
              "            fig.send_message('set_device_pixel_ratio', {\n",
              "                device_pixel_ratio: fig.ratio,\n",
              "            });\n",
              "        }\n",
              "        fig.send_message('refresh', {});\n",
              "    };\n",
              "\n",
              "    this.imageObj.onload = function () {\n",
              "        if (fig.image_mode === 'full') {\n",
              "            // Full images could contain transparency (where diff images\n",
              "            // almost always do), so we need to clear the canvas so that\n",
              "            // there is no ghosting.\n",
              "            fig.context.clearRect(0, 0, fig.canvas.width, fig.canvas.height);\n",
              "        }\n",
              "        fig.context.drawImage(fig.imageObj, 0, 0);\n",
              "    };\n",
              "\n",
              "    this.imageObj.onunload = function () {\n",
              "        fig.ws.close();\n",
              "    };\n",
              "\n",
              "    this.ws.onmessage = this._make_on_message_function(this);\n",
              "\n",
              "    this.ondownload = ondownload;\n",
              "};\n",
              "\n",
              "mpl.figure.prototype._init_header = function () {\n",
              "    var titlebar = document.createElement('div');\n",
              "    titlebar.classList =\n",
              "        'ui-dialog-titlebar ui-widget-header ui-corner-all ui-helper-clearfix';\n",
              "    var titletext = document.createElement('div');\n",
              "    titletext.classList = 'ui-dialog-title';\n",
              "    titletext.setAttribute(\n",
              "        'style',\n",
              "        'width: 100%; text-align: center; padding: 3px;'\n",
              "    );\n",
              "    titlebar.appendChild(titletext);\n",
              "    this.root.appendChild(titlebar);\n",
              "    this.header = titletext;\n",
              "};\n",
              "\n",
              "mpl.figure.prototype._canvas_extra_style = function (_canvas_div) {};\n",
              "\n",
              "mpl.figure.prototype._root_extra_style = function (_canvas_div) {};\n",
              "\n",
              "mpl.figure.prototype._init_canvas = function () {\n",
              "    var fig = this;\n",
              "\n",
              "    var canvas_div = (this.canvas_div = document.createElement('div'));\n",
              "    canvas_div.setAttribute('tabindex', '0');\n",
              "    canvas_div.setAttribute(\n",
              "        'style',\n",
              "        'border: 1px solid #ddd;' +\n",
              "            'box-sizing: content-box;' +\n",
              "            'clear: both;' +\n",
              "            'min-height: 1px;' +\n",
              "            'min-width: 1px;' +\n",
              "            'outline: 0;' +\n",
              "            'overflow: hidden;' +\n",
              "            'position: relative;' +\n",
              "            'resize: both;' +\n",
              "            'z-index: 2;'\n",
              "    );\n",
              "\n",
              "    function on_keyboard_event_closure(name) {\n",
              "        return function (event) {\n",
              "            return fig.key_event(event, name);\n",
              "        };\n",
              "    }\n",
              "\n",
              "    canvas_div.addEventListener(\n",
              "        'keydown',\n",
              "        on_keyboard_event_closure('key_press')\n",
              "    );\n",
              "    canvas_div.addEventListener(\n",
              "        'keyup',\n",
              "        on_keyboard_event_closure('key_release')\n",
              "    );\n",
              "\n",
              "    this._canvas_extra_style(canvas_div);\n",
              "    this.root.appendChild(canvas_div);\n",
              "\n",
              "    var canvas = (this.canvas = document.createElement('canvas'));\n",
              "    canvas.classList.add('mpl-canvas');\n",
              "    canvas.setAttribute(\n",
              "        'style',\n",
              "        'box-sizing: content-box;' +\n",
              "            'pointer-events: none;' +\n",
              "            'position: relative;' +\n",
              "            'z-index: 0;'\n",
              "    );\n",
              "\n",
              "    this.context = canvas.getContext('2d');\n",
              "\n",
              "    var backingStore =\n",
              "        this.context.backingStorePixelRatio ||\n",
              "        this.context.webkitBackingStorePixelRatio ||\n",
              "        this.context.mozBackingStorePixelRatio ||\n",
              "        this.context.msBackingStorePixelRatio ||\n",
              "        this.context.oBackingStorePixelRatio ||\n",
              "        this.context.backingStorePixelRatio ||\n",
              "        1;\n",
              "\n",
              "    this.ratio = (window.devicePixelRatio || 1) / backingStore;\n",
              "\n",
              "    var rubberband_canvas = (this.rubberband_canvas = document.createElement(\n",
              "        'canvas'\n",
              "    ));\n",
              "    rubberband_canvas.setAttribute(\n",
              "        'style',\n",
              "        'box-sizing: content-box;' +\n",
              "            'left: 0;' +\n",
              "            'pointer-events: none;' +\n",
              "            'position: absolute;' +\n",
              "            'top: 0;' +\n",
              "            'z-index: 1;'\n",
              "    );\n",
              "\n",
              "    // Apply a ponyfill if ResizeObserver is not implemented by browser.\n",
              "    if (this.ResizeObserver === undefined) {\n",
              "        if (window.ResizeObserver !== undefined) {\n",
              "            this.ResizeObserver = window.ResizeObserver;\n",
              "        } else {\n",
              "            var obs = _JSXTOOLS_RESIZE_OBSERVER({});\n",
              "            this.ResizeObserver = obs.ResizeObserver;\n",
              "        }\n",
              "    }\n",
              "\n",
              "    this.resizeObserverInstance = new this.ResizeObserver(function (entries) {\n",
              "        // There's no need to resize if the WebSocket is not connected:\n",
              "        // - If it is still connecting, then we will get an initial resize from\n",
              "        //   Python once it connects.\n",
              "        // - If it has disconnected, then resizing will clear the canvas and\n",
              "        //   never get anything back to refill it, so better to not resize and\n",
              "        //   keep something visible.\n",
              "        if (fig.ws.readyState != 1) {\n",
              "            return;\n",
              "        }\n",
              "        var nentries = entries.length;\n",
              "        for (var i = 0; i < nentries; i++) {\n",
              "            var entry = entries[i];\n",
              "            var width, height;\n",
              "            if (entry.contentBoxSize) {\n",
              "                if (entry.contentBoxSize instanceof Array) {\n",
              "                    // Chrome 84 implements new version of spec.\n",
              "                    width = entry.contentBoxSize[0].inlineSize;\n",
              "                    height = entry.contentBoxSize[0].blockSize;\n",
              "                } else {\n",
              "                    // Firefox implements old version of spec.\n",
              "                    width = entry.contentBoxSize.inlineSize;\n",
              "                    height = entry.contentBoxSize.blockSize;\n",
              "                }\n",
              "            } else {\n",
              "                // Chrome <84 implements even older version of spec.\n",
              "                width = entry.contentRect.width;\n",
              "                height = entry.contentRect.height;\n",
              "            }\n",
              "\n",
              "            // Keep the size of the canvas and rubber band canvas in sync with\n",
              "            // the canvas container.\n",
              "            if (entry.devicePixelContentBoxSize) {\n",
              "                // Chrome 84 implements new version of spec.\n",
              "                canvas.setAttribute(\n",
              "                    'width',\n",
              "                    entry.devicePixelContentBoxSize[0].inlineSize\n",
              "                );\n",
              "                canvas.setAttribute(\n",
              "                    'height',\n",
              "                    entry.devicePixelContentBoxSize[0].blockSize\n",
              "                );\n",
              "            } else {\n",
              "                canvas.setAttribute('width', width * fig.ratio);\n",
              "                canvas.setAttribute('height', height * fig.ratio);\n",
              "            }\n",
              "            /* This rescales the canvas back to display pixels, so that it\n",
              "             * appears correct on HiDPI screens. */\n",
              "            canvas.style.width = width + 'px';\n",
              "            canvas.style.height = height + 'px';\n",
              "\n",
              "            rubberband_canvas.setAttribute('width', width);\n",
              "            rubberband_canvas.setAttribute('height', height);\n",
              "\n",
              "            // And update the size in Python. We ignore the initial 0/0 size\n",
              "            // that occurs as the element is placed into the DOM, which should\n",
              "            // otherwise not happen due to the minimum size styling.\n",
              "            if (width != 0 && height != 0) {\n",
              "                fig.request_resize(width, height);\n",
              "            }\n",
              "        }\n",
              "    });\n",
              "    this.resizeObserverInstance.observe(canvas_div);\n",
              "\n",
              "    function on_mouse_event_closure(name) {\n",
              "        /* User Agent sniffing is bad, but WebKit is busted:\n",
              "         * https://bugs.webkit.org/show_bug.cgi?id=144526\n",
              "         * https://bugs.webkit.org/show_bug.cgi?id=181818\n",
              "         * The worst that happens here is that they get an extra browser\n",
              "         * selection when dragging, if this check fails to catch them.\n",
              "         */\n",
              "        var UA = navigator.userAgent;\n",
              "        var isWebKit = /AppleWebKit/.test(UA) && !/Chrome/.test(UA);\n",
              "        if(isWebKit) {\n",
              "            return function (event) {\n",
              "                /* This prevents the web browser from automatically changing to\n",
              "                 * the text insertion cursor when the button is pressed. We\n",
              "                 * want to control all of the cursor setting manually through\n",
              "                 * the 'cursor' event from matplotlib */\n",
              "                event.preventDefault()\n",
              "                return fig.mouse_event(event, name);\n",
              "            };\n",
              "        } else {\n",
              "            return function (event) {\n",
              "                return fig.mouse_event(event, name);\n",
              "            };\n",
              "        }\n",
              "    }\n",
              "\n",
              "    canvas_div.addEventListener(\n",
              "        'mousedown',\n",
              "        on_mouse_event_closure('button_press')\n",
              "    );\n",
              "    canvas_div.addEventListener(\n",
              "        'mouseup',\n",
              "        on_mouse_event_closure('button_release')\n",
              "    );\n",
              "    canvas_div.addEventListener(\n",
              "        'dblclick',\n",
              "        on_mouse_event_closure('dblclick')\n",
              "    );\n",
              "    // Throttle sequential mouse events to 1 every 20ms.\n",
              "    canvas_div.addEventListener(\n",
              "        'mousemove',\n",
              "        on_mouse_event_closure('motion_notify')\n",
              "    );\n",
              "\n",
              "    canvas_div.addEventListener(\n",
              "        'mouseenter',\n",
              "        on_mouse_event_closure('figure_enter')\n",
              "    );\n",
              "    canvas_div.addEventListener(\n",
              "        'mouseleave',\n",
              "        on_mouse_event_closure('figure_leave')\n",
              "    );\n",
              "\n",
              "    canvas_div.addEventListener('wheel', function (event) {\n",
              "        if (event.deltaY < 0) {\n",
              "            event.step = 1;\n",
              "        } else {\n",
              "            event.step = -1;\n",
              "        }\n",
              "        on_mouse_event_closure('scroll')(event);\n",
              "    });\n",
              "\n",
              "    canvas_div.appendChild(canvas);\n",
              "    canvas_div.appendChild(rubberband_canvas);\n",
              "\n",
              "    this.rubberband_context = rubberband_canvas.getContext('2d');\n",
              "    this.rubberband_context.strokeStyle = '#000000';\n",
              "\n",
              "    this._resize_canvas = function (width, height, forward) {\n",
              "        if (forward) {\n",
              "            canvas_div.style.width = width + 'px';\n",
              "            canvas_div.style.height = height + 'px';\n",
              "        }\n",
              "    };\n",
              "\n",
              "    // Disable right mouse context menu.\n",
              "    canvas_div.addEventListener('contextmenu', function (_e) {\n",
              "        event.preventDefault();\n",
              "        return false;\n",
              "    });\n",
              "\n",
              "    function set_focus() {\n",
              "        canvas.focus();\n",
              "        canvas_div.focus();\n",
              "    }\n",
              "\n",
              "    window.setTimeout(set_focus, 100);\n",
              "};\n",
              "\n",
              "mpl.figure.prototype._init_toolbar = function () {\n",
              "    var fig = this;\n",
              "\n",
              "    var toolbar = document.createElement('div');\n",
              "    toolbar.classList = 'mpl-toolbar';\n",
              "    this.root.appendChild(toolbar);\n",
              "\n",
              "    function on_click_closure(name) {\n",
              "        return function (_event) {\n",
              "            return fig.toolbar_button_onclick(name);\n",
              "        };\n",
              "    }\n",
              "\n",
              "    function on_mouseover_closure(tooltip) {\n",
              "        return function (event) {\n",
              "            if (!event.currentTarget.disabled) {\n",
              "                return fig.toolbar_button_onmouseover(tooltip);\n",
              "            }\n",
              "        };\n",
              "    }\n",
              "\n",
              "    fig.buttons = {};\n",
              "    var buttonGroup = document.createElement('div');\n",
              "    buttonGroup.classList = 'mpl-button-group';\n",
              "    for (var toolbar_ind in mpl.toolbar_items) {\n",
              "        var name = mpl.toolbar_items[toolbar_ind][0];\n",
              "        var tooltip = mpl.toolbar_items[toolbar_ind][1];\n",
              "        var image = mpl.toolbar_items[toolbar_ind][2];\n",
              "        var method_name = mpl.toolbar_items[toolbar_ind][3];\n",
              "\n",
              "        if (!name) {\n",
              "            /* Instead of a spacer, we start a new button group. */\n",
              "            if (buttonGroup.hasChildNodes()) {\n",
              "                toolbar.appendChild(buttonGroup);\n",
              "            }\n",
              "            buttonGroup = document.createElement('div');\n",
              "            buttonGroup.classList = 'mpl-button-group';\n",
              "            continue;\n",
              "        }\n",
              "\n",
              "        var button = (fig.buttons[name] = document.createElement('button'));\n",
              "        button.classList = 'mpl-widget';\n",
              "        button.setAttribute('role', 'button');\n",
              "        button.setAttribute('aria-disabled', 'false');\n",
              "        button.addEventListener('click', on_click_closure(method_name));\n",
              "        button.addEventListener('mouseover', on_mouseover_closure(tooltip));\n",
              "\n",
              "        var icon_img = document.createElement('img');\n",
              "        icon_img.src = '_images/' + image + '.png';\n",
              "        icon_img.srcset = '_images/' + image + '_large.png 2x';\n",
              "        icon_img.alt = tooltip;\n",
              "        button.appendChild(icon_img);\n",
              "\n",
              "        buttonGroup.appendChild(button);\n",
              "    }\n",
              "\n",
              "    if (buttonGroup.hasChildNodes()) {\n",
              "        toolbar.appendChild(buttonGroup);\n",
              "    }\n",
              "\n",
              "    var fmt_picker = document.createElement('select');\n",
              "    fmt_picker.classList = 'mpl-widget';\n",
              "    toolbar.appendChild(fmt_picker);\n",
              "    this.format_dropdown = fmt_picker;\n",
              "\n",
              "    for (var ind in mpl.extensions) {\n",
              "        var fmt = mpl.extensions[ind];\n",
              "        var option = document.createElement('option');\n",
              "        option.selected = fmt === mpl.default_extension;\n",
              "        option.innerHTML = fmt;\n",
              "        fmt_picker.appendChild(option);\n",
              "    }\n",
              "\n",
              "    var status_bar = document.createElement('span');\n",
              "    status_bar.classList = 'mpl-message';\n",
              "    toolbar.appendChild(status_bar);\n",
              "    this.message = status_bar;\n",
              "};\n",
              "\n",
              "mpl.figure.prototype.request_resize = function (x_pixels, y_pixels) {\n",
              "    // Request matplotlib to resize the figure. Matplotlib will then trigger a resize in the client,\n",
              "    // which will in turn request a refresh of the image.\n",
              "    this.send_message('resize', { width: x_pixels, height: y_pixels });\n",
              "};\n",
              "\n",
              "mpl.figure.prototype.send_message = function (type, properties) {\n",
              "    properties['type'] = type;\n",
              "    properties['figure_id'] = this.id;\n",
              "    this.ws.send(JSON.stringify(properties));\n",
              "};\n",
              "\n",
              "mpl.figure.prototype.send_draw_message = function () {\n",
              "    if (!this.waiting) {\n",
              "        this.waiting = true;\n",
              "        this.ws.send(JSON.stringify({ type: 'draw', figure_id: this.id }));\n",
              "    }\n",
              "};\n",
              "\n",
              "mpl.figure.prototype.handle_save = function (fig, _msg) {\n",
              "    var format_dropdown = fig.format_dropdown;\n",
              "    var format = format_dropdown.options[format_dropdown.selectedIndex].value;\n",
              "    fig.ondownload(fig, format);\n",
              "};\n",
              "\n",
              "mpl.figure.prototype.handle_resize = function (fig, msg) {\n",
              "    var size = msg['size'];\n",
              "    if (size[0] !== fig.canvas.width || size[1] !== fig.canvas.height) {\n",
              "        fig._resize_canvas(size[0], size[1], msg['forward']);\n",
              "        fig.send_message('refresh', {});\n",
              "    }\n",
              "};\n",
              "\n",
              "mpl.figure.prototype.handle_rubberband = function (fig, msg) {\n",
              "    var x0 = msg['x0'] / fig.ratio;\n",
              "    var y0 = (fig.canvas.height - msg['y0']) / fig.ratio;\n",
              "    var x1 = msg['x1'] / fig.ratio;\n",
              "    var y1 = (fig.canvas.height - msg['y1']) / fig.ratio;\n",
              "    x0 = Math.floor(x0) + 0.5;\n",
              "    y0 = Math.floor(y0) + 0.5;\n",
              "    x1 = Math.floor(x1) + 0.5;\n",
              "    y1 = Math.floor(y1) + 0.5;\n",
              "    var min_x = Math.min(x0, x1);\n",
              "    var min_y = Math.min(y0, y1);\n",
              "    var width = Math.abs(x1 - x0);\n",
              "    var height = Math.abs(y1 - y0);\n",
              "\n",
              "    fig.rubberband_context.clearRect(\n",
              "        0,\n",
              "        0,\n",
              "        fig.canvas.width / fig.ratio,\n",
              "        fig.canvas.height / fig.ratio\n",
              "    );\n",
              "\n",
              "    fig.rubberband_context.strokeRect(min_x, min_y, width, height);\n",
              "};\n",
              "\n",
              "mpl.figure.prototype.handle_figure_label = function (fig, msg) {\n",
              "    // Updates the figure title.\n",
              "    fig.header.textContent = msg['label'];\n",
              "};\n",
              "\n",
              "mpl.figure.prototype.handle_cursor = function (fig, msg) {\n",
              "    fig.canvas_div.style.cursor = msg['cursor'];\n",
              "};\n",
              "\n",
              "mpl.figure.prototype.handle_message = function (fig, msg) {\n",
              "    fig.message.textContent = msg['message'];\n",
              "};\n",
              "\n",
              "mpl.figure.prototype.handle_draw = function (fig, _msg) {\n",
              "    // Request the server to send over a new figure.\n",
              "    fig.send_draw_message();\n",
              "};\n",
              "\n",
              "mpl.figure.prototype.handle_image_mode = function (fig, msg) {\n",
              "    fig.image_mode = msg['mode'];\n",
              "};\n",
              "\n",
              "mpl.figure.prototype.handle_history_buttons = function (fig, msg) {\n",
              "    for (var key in msg) {\n",
              "        if (!(key in fig.buttons)) {\n",
              "            continue;\n",
              "        }\n",
              "        fig.buttons[key].disabled = !msg[key];\n",
              "        fig.buttons[key].setAttribute('aria-disabled', !msg[key]);\n",
              "    }\n",
              "};\n",
              "\n",
              "mpl.figure.prototype.handle_navigate_mode = function (fig, msg) {\n",
              "    if (msg['mode'] === 'PAN') {\n",
              "        fig.buttons['Pan'].classList.add('active');\n",
              "        fig.buttons['Zoom'].classList.remove('active');\n",
              "    } else if (msg['mode'] === 'ZOOM') {\n",
              "        fig.buttons['Pan'].classList.remove('active');\n",
              "        fig.buttons['Zoom'].classList.add('active');\n",
              "    } else {\n",
              "        fig.buttons['Pan'].classList.remove('active');\n",
              "        fig.buttons['Zoom'].classList.remove('active');\n",
              "    }\n",
              "};\n",
              "\n",
              "mpl.figure.prototype.updated_canvas_event = function () {\n",
              "    // Called whenever the canvas gets updated.\n",
              "    this.send_message('ack', {});\n",
              "};\n",
              "\n",
              "// A function to construct a web socket function for onmessage handling.\n",
              "// Called in the figure constructor.\n",
              "mpl.figure.prototype._make_on_message_function = function (fig) {\n",
              "    return function socket_on_message(evt) {\n",
              "        if (evt.data instanceof Blob) {\n",
              "            var img = evt.data;\n",
              "            if (img.type !== 'image/png') {\n",
              "                /* FIXME: We get \"Resource interpreted as Image but\n",
              "                 * transferred with MIME type text/plain:\" errors on\n",
              "                 * Chrome.  But how to set the MIME type?  It doesn't seem\n",
              "                 * to be part of the websocket stream */\n",
              "                img.type = 'image/png';\n",
              "            }\n",
              "\n",
              "            /* Free the memory for the previous frames */\n",
              "            if (fig.imageObj.src) {\n",
              "                (window.URL || window.webkitURL).revokeObjectURL(\n",
              "                    fig.imageObj.src\n",
              "                );\n",
              "            }\n",
              "\n",
              "            fig.imageObj.src = (window.URL || window.webkitURL).createObjectURL(\n",
              "                img\n",
              "            );\n",
              "            fig.updated_canvas_event();\n",
              "            fig.waiting = false;\n",
              "            return;\n",
              "        } else if (\n",
              "            typeof evt.data === 'string' &&\n",
              "            evt.data.slice(0, 21) === 'data:image/png;base64'\n",
              "        ) {\n",
              "            fig.imageObj.src = evt.data;\n",
              "            fig.updated_canvas_event();\n",
              "            fig.waiting = false;\n",
              "            return;\n",
              "        }\n",
              "\n",
              "        var msg = JSON.parse(evt.data);\n",
              "        var msg_type = msg['type'];\n",
              "\n",
              "        // Call the  \"handle_{type}\" callback, which takes\n",
              "        // the figure and JSON message as its only arguments.\n",
              "        try {\n",
              "            var callback = fig['handle_' + msg_type];\n",
              "        } catch (e) {\n",
              "            console.log(\n",
              "                \"No handler for the '\" + msg_type + \"' message type: \",\n",
              "                msg\n",
              "            );\n",
              "            return;\n",
              "        }\n",
              "\n",
              "        if (callback) {\n",
              "            try {\n",
              "                // console.log(\"Handling '\" + msg_type + \"' message: \", msg);\n",
              "                callback(fig, msg);\n",
              "            } catch (e) {\n",
              "                console.log(\n",
              "                    \"Exception inside the 'handler_\" + msg_type + \"' callback:\",\n",
              "                    e,\n",
              "                    e.stack,\n",
              "                    msg\n",
              "                );\n",
              "            }\n",
              "        }\n",
              "    };\n",
              "};\n",
              "\n",
              "function getModifiers(event) {\n",
              "    var mods = [];\n",
              "    if (event.ctrlKey) {\n",
              "        mods.push('ctrl');\n",
              "    }\n",
              "    if (event.altKey) {\n",
              "        mods.push('alt');\n",
              "    }\n",
              "    if (event.shiftKey) {\n",
              "        mods.push('shift');\n",
              "    }\n",
              "    if (event.metaKey) {\n",
              "        mods.push('meta');\n",
              "    }\n",
              "    return mods;\n",
              "}\n",
              "\n",
              "/*\n",
              " * return a copy of an object with only non-object keys\n",
              " * we need this to avoid circular references\n",
              " * https://stackoverflow.com/a/24161582/3208463\n",
              " */\n",
              "function simpleKeys(original) {\n",
              "    return Object.keys(original).reduce(function (obj, key) {\n",
              "        if (typeof original[key] !== 'object') {\n",
              "            obj[key] = original[key];\n",
              "        }\n",
              "        return obj;\n",
              "    }, {});\n",
              "}\n",
              "\n",
              "mpl.figure.prototype.mouse_event = function (event, name) {\n",
              "    if (name === 'button_press') {\n",
              "        this.canvas.focus();\n",
              "        this.canvas_div.focus();\n",
              "    }\n",
              "\n",
              "    // from https://stackoverflow.com/q/1114465\n",
              "    var boundingRect = this.canvas.getBoundingClientRect();\n",
              "    var x = (event.clientX - boundingRect.left) * this.ratio;\n",
              "    var y = (event.clientY - boundingRect.top) * this.ratio;\n",
              "\n",
              "    this.send_message(name, {\n",
              "        x: x,\n",
              "        y: y,\n",
              "        button: event.button,\n",
              "        step: event.step,\n",
              "        buttons: event.buttons,\n",
              "        modifiers: getModifiers(event),\n",
              "        guiEvent: simpleKeys(event),\n",
              "    });\n",
              "\n",
              "    return false;\n",
              "};\n",
              "\n",
              "mpl.figure.prototype._key_event_extra = function (_event, _name) {\n",
              "    // Handle any extra behaviour associated with a key event\n",
              "};\n",
              "\n",
              "mpl.figure.prototype.key_event = function (event, name) {\n",
              "    // Prevent repeat events\n",
              "    if (name === 'key_press') {\n",
              "        if (event.key === this._key) {\n",
              "            return;\n",
              "        } else {\n",
              "            this._key = event.key;\n",
              "        }\n",
              "    }\n",
              "    if (name === 'key_release') {\n",
              "        this._key = null;\n",
              "    }\n",
              "\n",
              "    var value = '';\n",
              "    if (event.ctrlKey && event.key !== 'Control') {\n",
              "        value += 'ctrl+';\n",
              "    }\n",
              "    else if (event.altKey && event.key !== 'Alt') {\n",
              "        value += 'alt+';\n",
              "    }\n",
              "    else if (event.shiftKey && event.key !== 'Shift') {\n",
              "        value += 'shift+';\n",
              "    }\n",
              "\n",
              "    value += 'k' + event.key;\n",
              "\n",
              "    this._key_event_extra(event, name);\n",
              "\n",
              "    this.send_message(name, { key: value, guiEvent: simpleKeys(event) });\n",
              "    return false;\n",
              "};\n",
              "\n",
              "mpl.figure.prototype.toolbar_button_onclick = function (name) {\n",
              "    if (name === 'download') {\n",
              "        this.handle_save(this, null);\n",
              "    } else {\n",
              "        this.send_message('toolbar_button', { name: name });\n",
              "    }\n",
              "};\n",
              "\n",
              "mpl.figure.prototype.toolbar_button_onmouseover = function (tooltip) {\n",
              "    this.message.textContent = tooltip;\n",
              "};\n",
              "\n",
              "///////////////// REMAINING CONTENT GENERATED BY embed_js.py /////////////////\n",
              "// prettier-ignore\n",
              "var _JSXTOOLS_RESIZE_OBSERVER=function(A){var t,i=new WeakMap,n=new WeakMap,a=new WeakMap,r=new WeakMap,o=new Set;function s(e){if(!(this instanceof s))throw new TypeError(\"Constructor requires 'new' operator\");i.set(this,e)}function h(){throw new TypeError(\"Function is not a constructor\")}function c(e,t,i,n){e=0 in arguments?Number(arguments[0]):0,t=1 in arguments?Number(arguments[1]):0,i=2 in arguments?Number(arguments[2]):0,n=3 in arguments?Number(arguments[3]):0,this.right=(this.x=this.left=e)+(this.width=i),this.bottom=(this.y=this.top=t)+(this.height=n),Object.freeze(this)}function d(){t=requestAnimationFrame(d);var s=new WeakMap,p=new Set;o.forEach((function(t){r.get(t).forEach((function(i){var r=t instanceof window.SVGElement,o=a.get(t),d=r?0:parseFloat(o.paddingTop),f=r?0:parseFloat(o.paddingRight),l=r?0:parseFloat(o.paddingBottom),u=r?0:parseFloat(o.paddingLeft),g=r?0:parseFloat(o.borderTopWidth),m=r?0:parseFloat(o.borderRightWidth),w=r?0:parseFloat(o.borderBottomWidth),b=u+f,F=d+l,v=(r?0:parseFloat(o.borderLeftWidth))+m,W=g+w,y=r?0:t.offsetHeight-W-t.clientHeight,E=r?0:t.offsetWidth-v-t.clientWidth,R=b+v,z=F+W,M=r?t.width:parseFloat(o.width)-R-E,O=r?t.height:parseFloat(o.height)-z-y;if(n.has(t)){var k=n.get(t);if(k[0]===M&&k[1]===O)return}n.set(t,[M,O]);var S=Object.create(h.prototype);S.target=t,S.contentRect=new c(u,d,M,O),s.has(i)||(s.set(i,[]),p.add(i)),s.get(i).push(S)}))})),p.forEach((function(e){i.get(e).call(e,s.get(e),e)}))}return s.prototype.observe=function(i){if(i instanceof window.Element){r.has(i)||(r.set(i,new Set),o.add(i),a.set(i,window.getComputedStyle(i)));var n=r.get(i);n.has(this)||n.add(this),cancelAnimationFrame(t),t=requestAnimationFrame(d)}},s.prototype.unobserve=function(i){if(i instanceof window.Element&&r.has(i)){var n=r.get(i);n.has(this)&&(n.delete(this),n.size||(r.delete(i),o.delete(i))),n.size||r.delete(i),o.size||cancelAnimationFrame(t)}},A.DOMRectReadOnly=c,A.ResizeObserver=s,A.ResizeObserverEntry=h,A}; // eslint-disable-line\n",
              "mpl.toolbar_items = [[\"Home\", \"Reset original view\", \"fa fa-home\", \"home\"], [\"Back\", \"Back to previous view\", \"fa fa-arrow-left\", \"back\"], [\"Forward\", \"Forward to next view\", \"fa fa-arrow-right\", \"forward\"], [\"\", \"\", \"\", \"\"], [\"Pan\", \"Left button pans, Right button zooms\\nx/y fixes axis, CTRL fixes aspect\", \"fa fa-arrows\", \"pan\"], [\"Zoom\", \"Zoom to rectangle\\nx/y fixes axis\", \"fa fa-square-o\", \"zoom\"], [\"\", \"\", \"\", \"\"], [\"Download\", \"Download plot\", \"fa fa-floppy-o\", \"download\"]];\n",
              "\n",
              "mpl.extensions = [\"eps\", \"jpeg\", \"pgf\", \"pdf\", \"png\", \"ps\", \"raw\", \"svg\", \"tif\", \"webp\"];\n",
              "\n",
              "mpl.default_extension = \"png\";/* global mpl */\n",
              "\n",
              "var comm_websocket_adapter = function (comm) {\n",
              "    // Create a \"websocket\"-like object which calls the given IPython comm\n",
              "    // object with the appropriate methods. Currently this is a non binary\n",
              "    // socket, so there is still some room for performance tuning.\n",
              "    var ws = {};\n",
              "\n",
              "    ws.binaryType = comm.kernel.ws.binaryType;\n",
              "    ws.readyState = comm.kernel.ws.readyState;\n",
              "    function updateReadyState(_event) {\n",
              "        if (comm.kernel.ws) {\n",
              "            ws.readyState = comm.kernel.ws.readyState;\n",
              "        } else {\n",
              "            ws.readyState = 3; // Closed state.\n",
              "        }\n",
              "    }\n",
              "    comm.kernel.ws.addEventListener('open', updateReadyState);\n",
              "    comm.kernel.ws.addEventListener('close', updateReadyState);\n",
              "    comm.kernel.ws.addEventListener('error', updateReadyState);\n",
              "\n",
              "    ws.close = function () {\n",
              "        comm.close();\n",
              "    };\n",
              "    ws.send = function (m) {\n",
              "        //console.log('sending', m);\n",
              "        comm.send(m);\n",
              "    };\n",
              "    // Register the callback with on_msg.\n",
              "    comm.on_msg(function (msg) {\n",
              "        //console.log('receiving', msg['content']['data'], msg);\n",
              "        var data = msg['content']['data'];\n",
              "        if (data['blob'] !== undefined) {\n",
              "            data = {\n",
              "                data: new Blob(msg['buffers'], { type: data['blob'] }),\n",
              "            };\n",
              "        }\n",
              "        // Pass the mpl event to the overridden (by mpl) onmessage function.\n",
              "        ws.onmessage(data);\n",
              "    });\n",
              "    return ws;\n",
              "};\n",
              "\n",
              "mpl.mpl_figure_comm = function (comm, msg) {\n",
              "    // This is the function which gets called when the mpl process\n",
              "    // starts-up an IPython Comm through the \"matplotlib\" channel.\n",
              "\n",
              "    var id = msg.content.data.id;\n",
              "    // Get hold of the div created by the display call when the Comm\n",
              "    // socket was opened in Python.\n",
              "    var element = document.getElementById(id);\n",
              "    var ws_proxy = comm_websocket_adapter(comm);\n",
              "\n",
              "    function ondownload(figure, _format) {\n",
              "        window.open(figure.canvas.toDataURL());\n",
              "    }\n",
              "\n",
              "    var fig = new mpl.figure(id, ws_proxy, ondownload, element);\n",
              "\n",
              "    // Call onopen now - mpl needs it, as it is assuming we've passed it a real\n",
              "    // web socket which is closed, not our websocket->open comm proxy.\n",
              "    ws_proxy.onopen();\n",
              "\n",
              "    fig.parent_element = element;\n",
              "    fig.cell_info = mpl.find_output_cell(\"<div id='\" + id + \"'></div>\");\n",
              "    if (!fig.cell_info) {\n",
              "        console.error('Failed to find cell for figure', id, fig);\n",
              "        return;\n",
              "    }\n",
              "    fig.cell_info[0].output_area.element.on(\n",
              "        'cleared',\n",
              "        { fig: fig },\n",
              "        fig._remove_fig_handler\n",
              "    );\n",
              "};\n",
              "\n",
              "mpl.figure.prototype.handle_close = function (fig, msg) {\n",
              "    var width = fig.canvas.width / fig.ratio;\n",
              "    fig.cell_info[0].output_area.element.off(\n",
              "        'cleared',\n",
              "        fig._remove_fig_handler\n",
              "    );\n",
              "    fig.resizeObserverInstance.unobserve(fig.canvas_div);\n",
              "\n",
              "    // Update the output cell to use the data from the current canvas.\n",
              "    fig.push_to_output();\n",
              "    var dataURL = fig.canvas.toDataURL();\n",
              "    // Re-enable the keyboard manager in IPython - without this line, in FF,\n",
              "    // the notebook keyboard shortcuts fail.\n",
              "    IPython.keyboard_manager.enable();\n",
              "    fig.parent_element.innerHTML =\n",
              "        '<img src=\"' + dataURL + '\" width=\"' + width + '\">';\n",
              "    fig.close_ws(fig, msg);\n",
              "};\n",
              "\n",
              "mpl.figure.prototype.close_ws = function (fig, msg) {\n",
              "    fig.send_message('closing', msg);\n",
              "    // fig.ws.close()\n",
              "};\n",
              "\n",
              "mpl.figure.prototype.push_to_output = function (_remove_interactive) {\n",
              "    // Turn the data on the canvas into data in the output cell.\n",
              "    var width = this.canvas.width / this.ratio;\n",
              "    var dataURL = this.canvas.toDataURL();\n",
              "    this.cell_info[1]['text/html'] =\n",
              "        '<img src=\"' + dataURL + '\" width=\"' + width + '\">';\n",
              "};\n",
              "\n",
              "mpl.figure.prototype.updated_canvas_event = function () {\n",
              "    // Tell IPython that the notebook contents must change.\n",
              "    IPython.notebook.set_dirty(true);\n",
              "    this.send_message('ack', {});\n",
              "    var fig = this;\n",
              "    // Wait a second, then push the new image to the DOM so\n",
              "    // that it is saved nicely (might be nice to debounce this).\n",
              "    setTimeout(function () {\n",
              "        fig.push_to_output();\n",
              "    }, 1000);\n",
              "};\n",
              "\n",
              "mpl.figure.prototype._init_toolbar = function () {\n",
              "    var fig = this;\n",
              "\n",
              "    var toolbar = document.createElement('div');\n",
              "    toolbar.classList = 'btn-toolbar';\n",
              "    this.root.appendChild(toolbar);\n",
              "\n",
              "    function on_click_closure(name) {\n",
              "        return function (_event) {\n",
              "            return fig.toolbar_button_onclick(name);\n",
              "        };\n",
              "    }\n",
              "\n",
              "    function on_mouseover_closure(tooltip) {\n",
              "        return function (event) {\n",
              "            if (!event.currentTarget.disabled) {\n",
              "                return fig.toolbar_button_onmouseover(tooltip);\n",
              "            }\n",
              "        };\n",
              "    }\n",
              "\n",
              "    fig.buttons = {};\n",
              "    var buttonGroup = document.createElement('div');\n",
              "    buttonGroup.classList = 'btn-group';\n",
              "    var button;\n",
              "    for (var toolbar_ind in mpl.toolbar_items) {\n",
              "        var name = mpl.toolbar_items[toolbar_ind][0];\n",
              "        var tooltip = mpl.toolbar_items[toolbar_ind][1];\n",
              "        var image = mpl.toolbar_items[toolbar_ind][2];\n",
              "        var method_name = mpl.toolbar_items[toolbar_ind][3];\n",
              "\n",
              "        if (!name) {\n",
              "            /* Instead of a spacer, we start a new button group. */\n",
              "            if (buttonGroup.hasChildNodes()) {\n",
              "                toolbar.appendChild(buttonGroup);\n",
              "            }\n",
              "            buttonGroup = document.createElement('div');\n",
              "            buttonGroup.classList = 'btn-group';\n",
              "            continue;\n",
              "        }\n",
              "\n",
              "        button = fig.buttons[name] = document.createElement('button');\n",
              "        button.classList = 'btn btn-default';\n",
              "        button.href = '#';\n",
              "        button.title = name;\n",
              "        button.innerHTML = '<i class=\"fa ' + image + ' fa-lg\"></i>';\n",
              "        button.addEventListener('click', on_click_closure(method_name));\n",
              "        button.addEventListener('mouseover', on_mouseover_closure(tooltip));\n",
              "        buttonGroup.appendChild(button);\n",
              "    }\n",
              "\n",
              "    if (buttonGroup.hasChildNodes()) {\n",
              "        toolbar.appendChild(buttonGroup);\n",
              "    }\n",
              "\n",
              "    // Add the status bar.\n",
              "    var status_bar = document.createElement('span');\n",
              "    status_bar.classList = 'mpl-message pull-right';\n",
              "    toolbar.appendChild(status_bar);\n",
              "    this.message = status_bar;\n",
              "\n",
              "    // Add the close button to the window.\n",
              "    var buttongrp = document.createElement('div');\n",
              "    buttongrp.classList = 'btn-group inline pull-right';\n",
              "    button = document.createElement('button');\n",
              "    button.classList = 'btn btn-mini btn-primary';\n",
              "    button.href = '#';\n",
              "    button.title = 'Stop Interaction';\n",
              "    button.innerHTML = '<i class=\"fa fa-power-off icon-remove icon-large\"></i>';\n",
              "    button.addEventListener('click', function (_evt) {\n",
              "        fig.handle_close(fig, {});\n",
              "    });\n",
              "    button.addEventListener(\n",
              "        'mouseover',\n",
              "        on_mouseover_closure('Stop Interaction')\n",
              "    );\n",
              "    buttongrp.appendChild(button);\n",
              "    var titlebar = this.root.querySelector('.ui-dialog-titlebar');\n",
              "    titlebar.insertBefore(buttongrp, titlebar.firstChild);\n",
              "};\n",
              "\n",
              "mpl.figure.prototype._remove_fig_handler = function (event) {\n",
              "    var fig = event.data.fig;\n",
              "    if (event.target !== this) {\n",
              "        // Ignore bubbled events from children.\n",
              "        return;\n",
              "    }\n",
              "    fig.close_ws(fig, {});\n",
              "};\n",
              "\n",
              "mpl.figure.prototype._root_extra_style = function (el) {\n",
              "    el.style.boxSizing = 'content-box'; // override notebook setting of border-box.\n",
              "};\n",
              "\n",
              "mpl.figure.prototype._canvas_extra_style = function (el) {\n",
              "    // this is important to make the div 'focusable\n",
              "    el.setAttribute('tabindex', 0);\n",
              "    // reach out to IPython and tell the keyboard manager to turn it's self\n",
              "    // off when our div gets focus\n",
              "\n",
              "    // location in version 3\n",
              "    if (IPython.notebook.keyboard_manager) {\n",
              "        IPython.notebook.keyboard_manager.register_events(el);\n",
              "    } else {\n",
              "        // location in version 2\n",
              "        IPython.keyboard_manager.register_events(el);\n",
              "    }\n",
              "};\n",
              "\n",
              "mpl.figure.prototype._key_event_extra = function (event, _name) {\n",
              "    // Check for shift+enter\n",
              "    if (event.shiftKey && event.which === 13) {\n",
              "        this.canvas_div.blur();\n",
              "        // select the cell after this one\n",
              "        var index = IPython.notebook.find_cell_index(this.cell_info[0]);\n",
              "        IPython.notebook.select(index + 1);\n",
              "    }\n",
              "};\n",
              "\n",
              "mpl.figure.prototype.handle_save = function (fig, _msg) {\n",
              "    fig.ondownload(fig, null);\n",
              "};\n",
              "\n",
              "mpl.find_output_cell = function (html_output) {\n",
              "    // Return the cell and output element which can be found *uniquely* in the notebook.\n",
              "    // Note - this is a bit hacky, but it is done because the \"notebook_saving.Notebook\"\n",
              "    // IPython event is triggered only after the cells have been serialised, which for\n",
              "    // our purposes (turning an active figure into a static one), is too late.\n",
              "    var cells = IPython.notebook.get_cells();\n",
              "    var ncells = cells.length;\n",
              "    for (var i = 0; i < ncells; i++) {\n",
              "        var cell = cells[i];\n",
              "        if (cell.cell_type === 'code') {\n",
              "            for (var j = 0; j < cell.output_area.outputs.length; j++) {\n",
              "                var data = cell.output_area.outputs[j];\n",
              "                if (data.data) {\n",
              "                    // IPython >= 3 moved mimebundle to data attribute of output\n",
              "                    data = data.data;\n",
              "                }\n",
              "                if (data['text/html'] === html_output) {\n",
              "                    return [cell, data, j];\n",
              "                }\n",
              "            }\n",
              "        }\n",
              "    }\n",
              "};\n",
              "\n",
              "// Register the function which deals with the matplotlib target/channel.\n",
              "// The kernel may be null if the page has been refreshed.\n",
              "if (IPython.notebook.kernel !== null) {\n",
              "    IPython.notebook.kernel.comm_manager.register_target(\n",
              "        'matplotlib',\n",
              "        mpl.mpl_figure_comm\n",
              "    );\n",
              "}\n"
            ]
          },
          "metadata": {}
        },
        {
          "output_type": "display_data",
          "data": {
            "text/plain": [
              "<IPython.core.display.HTML object>"
            ],
            "text/html": [
              "<div id='f2ba7215-bd6b-45b5-8229-10686ca2f6d6'></div>"
            ]
          },
          "metadata": {}
        }
      ],
      "source": [
        "#display_pca_scatterplot\n",
        "display_pca_scatterplot(model,['king', 'man', 'woman'])\n",
        "# display_pca_scatterplot(model,['king', 'man', 'woman','queen','boy','prince'])"
      ]
    }
  ],
  "metadata": {
    "kernelspec": {
      "display_name": "Python 3 (ipykernel)",
      "language": "python",
      "name": "python3"
    },
    "language_info": {
      "codemirror_mode": {
        "name": "ipython",
        "version": 3
      },
      "file_extension": ".py",
      "mimetype": "text/x-python",
      "name": "python",
      "nbconvert_exporter": "python",
      "pygments_lexer": "ipython3",
      "version": "3.11.10"
    },
    "colab": {
      "provenance": []
    }
  },
  "nbformat": 4,
  "nbformat_minor": 0
}
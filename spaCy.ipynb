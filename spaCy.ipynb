{
  "cells": [
    {
      "cell_type": "markdown",
      "metadata": {
        "id": "3bc89muFCv0n"
      },
      "source": [
        "Overview:  \n",
        "-spaCy Install (cuda support)      \n",
        "-English language Install  \n",
        "-Tokenization and Parts-of-Speech Tagging     \n",
        "-Using word vectors and Similarity   "
      ]
    },
    {
      "cell_type": "markdown",
      "metadata": {
        "id": "a9jOS7xFCv0o"
      },
      "source": [
        "# spaCy is another popular NLP library\n",
        "\n",
        "spaCy is a new Python NLP library with great features: focuses on production usage and supports deep learning frameworks. Excellent for very large text files.  (NLTK is more of a starter tool for language processing.)  \n",
        "\n",
        "Capabilities:    \n",
        "-Non-destructive tokenization  \n",
        "-Named entity recognition  \n",
        "-Support for 55+ languages  \n",
        "-17 statistical models for 11 languages  \n",
        "-pretrained word vectors  \n",
        "-State-of-the-art speed  \n",
        "-Easy deep learning integration  \n",
        "-Part-of-speech tagging  \n",
        "-Labeled dependency parsing  \n",
        "-Syntax-driven sentence segmentation  \n",
        "-Built in visualizers for syntax and NER  \n",
        "-Convenient string-to-hash mapping  \n",
        "-Export to numpy data arrays  \n",
        "-Efficient binary serialization  \n",
        "-Easy model packaging and deployment  \n",
        "-Robust, rigorously evaluated accuracy  \n",
        "   \n",
        "https://spacy.io/docs/#examples"
      ]
    },
    {
      "cell_type": "markdown",
      "metadata": {
        "id": "cBysA2TCCv0o"
      },
      "source": [
        "**Excellent article on comparison of NLTK libraries:**    \n",
        "https://medium.com/activewizards-machine-learning-company/comparison-of-top-6-python-nlp-libraries-c4ce160237eb  "
      ]
    },
    {
      "cell_type": "markdown",
      "metadata": {
        "id": "qWR2AKAdCv0o"
      },
      "source": [
        "**cuda support for spaCy**"
      ]
    },
    {
      "cell_type": "markdown",
      "metadata": {
        "id": "yc1jILczCv0p"
      },
      "source": [
        "**spaCy v2.0** comes with neural network models that are implemented in the machine learning library Thinc. For GPU support, we’ve been grateful to use the work of Chainer’s CuPy module which provides a numpy-compatible interface for GPU arrays.    \n",
        "**spaCy** can be installed on GPU by specifying:  \n",
        "`pip install spacy[cuda]\n",
        "pip install spaCy[cuda112]`\n",
        "\n",
        "Or any other cuda version you have: spacy[cuda90], spacy[cuda91], spacy[cuda92] or spacy[cuda100]       \n",
        "If you know your cuda version, using the more explicit specifier allows `cupy` to be installed via wheel saving some compilation time. The specifiers should install `cupy`.  "
      ]
    },
    {
      "cell_type": "markdown",
      "metadata": {
        "id": "mu_zGwGiCv0p"
      },
      "source": [
        "If you have issues with **spaCy for CUDA (GPU)**, uninstall it\n",
        "#!pip uninstall spacy[cuda90]"
      ]
    },
    {
      "cell_type": "markdown",
      "metadata": {
        "id": "tUKqphr0Cv0p"
      },
      "source": [
        "To activate gpu use:\n",
        "#spacy.prefer_gpu()"
      ]
    },
    {
      "cell_type": "code",
      "execution_count": 3,
      "metadata": {
        "id": "zsW09pkuCv0p",
        "colab": {
          "base_uri": "https://localhost:8080/"
        },
        "outputId": "6aeeec6f-0beb-4499-97cf-9dce4e0ca78d"
      },
      "outputs": [
        {
          "output_type": "stream",
          "name": "stdout",
          "text": [
            "Requirement already satisfied: pip in /usr/local/lib/python3.12/dist-packages (24.1.2)\n",
            "Collecting pip\n",
            "  Downloading pip-25.3-py3-none-any.whl.metadata (4.7 kB)\n",
            "Downloading pip-25.3-py3-none-any.whl (1.8 MB)\n",
            "\u001b[2K   \u001b[90m━━━━━━━━━━━━━━━━━━━━━━━━━━━━━━━━━━━━━━━━\u001b[0m \u001b[32m1.8/1.8 MB\u001b[0m \u001b[31m31.7 MB/s\u001b[0m eta \u001b[36m0:00:00\u001b[0m\n",
            "\u001b[?25hInstalling collected packages: pip\n",
            "  Attempting uninstall: pip\n",
            "    Found existing installation: pip 24.1.2\n",
            "    Uninstalling pip-24.1.2:\n",
            "      Successfully uninstalled pip-24.1.2\n",
            "Successfully installed pip-25.3\n"
          ]
        }
      ],
      "source": [
        "#If you have not updated python pip command run the following command:\n",
        "!python -m pip install --upgrade pip"
      ]
    },
    {
      "cell_type": "code",
      "execution_count": 4,
      "metadata": {
        "id": "FGvOpK23Cv0q",
        "outputId": "ec0cc4a4-563f-43d4-e573-3bd96c0924f9",
        "colab": {
          "base_uri": "https://localhost:8080/"
        }
      },
      "outputs": [
        {
          "output_type": "stream",
          "name": "stdout",
          "text": [
            "Requirement already satisfied: spacy in /usr/local/lib/python3.12/dist-packages (3.8.7)\n",
            "Requirement already satisfied: spacy-legacy<3.1.0,>=3.0.11 in /usr/local/lib/python3.12/dist-packages (from spacy) (3.0.12)\n",
            "Requirement already satisfied: spacy-loggers<2.0.0,>=1.0.0 in /usr/local/lib/python3.12/dist-packages (from spacy) (1.0.5)\n",
            "Requirement already satisfied: murmurhash<1.1.0,>=0.28.0 in /usr/local/lib/python3.12/dist-packages (from spacy) (1.0.13)\n",
            "Requirement already satisfied: cymem<2.1.0,>=2.0.2 in /usr/local/lib/python3.12/dist-packages (from spacy) (2.0.11)\n",
            "Requirement already satisfied: preshed<3.1.0,>=3.0.2 in /usr/local/lib/python3.12/dist-packages (from spacy) (3.0.10)\n",
            "Requirement already satisfied: thinc<8.4.0,>=8.3.4 in /usr/local/lib/python3.12/dist-packages (from spacy) (8.3.6)\n",
            "Requirement already satisfied: wasabi<1.2.0,>=0.9.1 in /usr/local/lib/python3.12/dist-packages (from spacy) (1.1.3)\n",
            "Requirement already satisfied: srsly<3.0.0,>=2.4.3 in /usr/local/lib/python3.12/dist-packages (from spacy) (2.5.1)\n",
            "Requirement already satisfied: catalogue<2.1.0,>=2.0.6 in /usr/local/lib/python3.12/dist-packages (from spacy) (2.0.10)\n",
            "Requirement already satisfied: weasel<0.5.0,>=0.1.0 in /usr/local/lib/python3.12/dist-packages (from spacy) (0.4.1)\n",
            "Requirement already satisfied: typer<1.0.0,>=0.3.0 in /usr/local/lib/python3.12/dist-packages (from spacy) (0.20.0)\n",
            "Requirement already satisfied: tqdm<5.0.0,>=4.38.0 in /usr/local/lib/python3.12/dist-packages (from spacy) (4.67.1)\n",
            "Requirement already satisfied: numpy>=1.19.0 in /usr/local/lib/python3.12/dist-packages (from spacy) (2.0.2)\n",
            "Requirement already satisfied: requests<3.0.0,>=2.13.0 in /usr/local/lib/python3.12/dist-packages (from spacy) (2.32.4)\n",
            "Requirement already satisfied: pydantic!=1.8,!=1.8.1,<3.0.0,>=1.7.4 in /usr/local/lib/python3.12/dist-packages (from spacy) (2.11.10)\n",
            "Requirement already satisfied: jinja2 in /usr/local/lib/python3.12/dist-packages (from spacy) (3.1.6)\n",
            "Requirement already satisfied: setuptools in /usr/local/lib/python3.12/dist-packages (from spacy) (75.2.0)\n",
            "Requirement already satisfied: packaging>=20.0 in /usr/local/lib/python3.12/dist-packages (from spacy) (25.0)\n",
            "Requirement already satisfied: langcodes<4.0.0,>=3.2.0 in /usr/local/lib/python3.12/dist-packages (from spacy) (3.5.0)\n",
            "Requirement already satisfied: language-data>=1.2 in /usr/local/lib/python3.12/dist-packages (from langcodes<4.0.0,>=3.2.0->spacy) (1.3.0)\n",
            "Requirement already satisfied: annotated-types>=0.6.0 in /usr/local/lib/python3.12/dist-packages (from pydantic!=1.8,!=1.8.1,<3.0.0,>=1.7.4->spacy) (0.7.0)\n",
            "Requirement already satisfied: pydantic-core==2.33.2 in /usr/local/lib/python3.12/dist-packages (from pydantic!=1.8,!=1.8.1,<3.0.0,>=1.7.4->spacy) (2.33.2)\n",
            "Requirement already satisfied: typing-extensions>=4.12.2 in /usr/local/lib/python3.12/dist-packages (from pydantic!=1.8,!=1.8.1,<3.0.0,>=1.7.4->spacy) (4.15.0)\n",
            "Requirement already satisfied: typing-inspection>=0.4.0 in /usr/local/lib/python3.12/dist-packages (from pydantic!=1.8,!=1.8.1,<3.0.0,>=1.7.4->spacy) (0.4.2)\n",
            "Requirement already satisfied: charset_normalizer<4,>=2 in /usr/local/lib/python3.12/dist-packages (from requests<3.0.0,>=2.13.0->spacy) (3.4.4)\n",
            "Requirement already satisfied: idna<4,>=2.5 in /usr/local/lib/python3.12/dist-packages (from requests<3.0.0,>=2.13.0->spacy) (3.11)\n",
            "Requirement already satisfied: urllib3<3,>=1.21.1 in /usr/local/lib/python3.12/dist-packages (from requests<3.0.0,>=2.13.0->spacy) (2.5.0)\n",
            "Requirement already satisfied: certifi>=2017.4.17 in /usr/local/lib/python3.12/dist-packages (from requests<3.0.0,>=2.13.0->spacy) (2025.10.5)\n",
            "Requirement already satisfied: blis<1.4.0,>=1.3.0 in /usr/local/lib/python3.12/dist-packages (from thinc<8.4.0,>=8.3.4->spacy) (1.3.0)\n",
            "Requirement already satisfied: confection<1.0.0,>=0.0.1 in /usr/local/lib/python3.12/dist-packages (from thinc<8.4.0,>=8.3.4->spacy) (0.1.5)\n",
            "Requirement already satisfied: click>=8.0.0 in /usr/local/lib/python3.12/dist-packages (from typer<1.0.0,>=0.3.0->spacy) (8.3.0)\n",
            "Requirement already satisfied: shellingham>=1.3.0 in /usr/local/lib/python3.12/dist-packages (from typer<1.0.0,>=0.3.0->spacy) (1.5.4)\n",
            "Requirement already satisfied: rich>=10.11.0 in /usr/local/lib/python3.12/dist-packages (from typer<1.0.0,>=0.3.0->spacy) (13.9.4)\n",
            "Requirement already satisfied: cloudpathlib<1.0.0,>=0.7.0 in /usr/local/lib/python3.12/dist-packages (from weasel<0.5.0,>=0.1.0->spacy) (0.23.0)\n",
            "Requirement already satisfied: smart-open<8.0.0,>=5.2.1 in /usr/local/lib/python3.12/dist-packages (from weasel<0.5.0,>=0.1.0->spacy) (7.4.1)\n",
            "Requirement already satisfied: wrapt in /usr/local/lib/python3.12/dist-packages (from smart-open<8.0.0,>=5.2.1->weasel<0.5.0,>=0.1.0->spacy) (2.0.0)\n",
            "Requirement already satisfied: marisa-trie>=1.1.0 in /usr/local/lib/python3.12/dist-packages (from language-data>=1.2->langcodes<4.0.0,>=3.2.0->spacy) (1.3.1)\n",
            "Requirement already satisfied: markdown-it-py>=2.2.0 in /usr/local/lib/python3.12/dist-packages (from rich>=10.11.0->typer<1.0.0,>=0.3.0->spacy) (4.0.0)\n",
            "Requirement already satisfied: pygments<3.0.0,>=2.13.0 in /usr/local/lib/python3.12/dist-packages (from rich>=10.11.0->typer<1.0.0,>=0.3.0->spacy) (2.19.2)\n",
            "Requirement already satisfied: mdurl~=0.1 in /usr/local/lib/python3.12/dist-packages (from markdown-it-py>=2.2.0->rich>=10.11.0->typer<1.0.0,>=0.3.0->spacy) (0.1.2)\n",
            "Requirement already satisfied: MarkupSafe>=2.0 in /usr/local/lib/python3.12/dist-packages (from jinja2->spacy) (3.0.3)\n"
          ]
        }
      ],
      "source": [
        "# To install reference:  https://spacy.io/usage\n",
        "#!conda install -c conda-forge spacy\n",
        "#!conda install -c conda forge spacy[cuda]\n",
        "!pip install --upgrade spacy  #alternatively\n"
      ]
    },
    {
      "cell_type": "markdown",
      "metadata": {
        "id": "QY-bziaLCv0q"
      },
      "source": [
        "Some commands such as the following may require administrator priviledges or you will receive a warning: You do not have sufficient privilege to perform this operation.      \n",
        "Open a cmd window as an Administrator, run the command and then open a Jupyter notebook.  \n",
        "On Linux all installations whould be done as sudo user  \n",
        "#!python -m spacy download en  \n",
        "#!sudo python -m spcy download en  # Linux  "
      ]
    },
    {
      "cell_type": "markdown",
      "metadata": {
        "id": "7HjAcI1MCv0r"
      },
      "source": [
        "# Install Language Modules\n",
        "https://spacy.io/models/en  \n",
        "Need to also install language modules separately. They come in sizes, small (sm), medium (md), and large (lg).  \n",
        "To install large English module:  \n",
        "    \n",
        "    $ python -m spacy download en_core_web_lg\n",
        "    \n",
        "Spacy has 4 English modules:    \n",
        "* en_core_web_sm (assigns context-specific token vectors, POS tags, dependency parse and named entities. Contains no vectors.)  \n",
        "* en_core_web_md  (assigns word vectors, context-specific token vectors, POS tags, dependency parse and named entities.)    \n",
        "* en_core_web_lg  (same as above)    \n",
        "* en_vectors_web_lg (same as above, Contains > 1 million unique vectors.)  \n",
        "\n",
        "**Important: You download modules in the command window as Administrator (at least for Windows.)**\n",
        "Once you run the above command, you will be informed:  \n",
        "You can now load the model via spacy.load('en')  "
      ]
    },
    {
      "cell_type": "code",
      "execution_count": 5,
      "metadata": {
        "id": "LZVvd9RmCv0r",
        "outputId": "746f9366-2ed6-4d95-bbda-d6271bfa9504",
        "colab": {
          "base_uri": "https://localhost:8080/"
        }
      },
      "outputs": [
        {
          "output_type": "stream",
          "name": "stdout",
          "text": [
            "\u001b[38;5;3m⚠ As of spaCy v3.0, shortcuts like 'en' are deprecated. Please use the\n",
            "full pipeline package name 'en_core_web_sm' instead.\u001b[0m\n",
            "Collecting en-core-web-sm==3.8.0\n",
            "  Downloading https://github.com/explosion/spacy-models/releases/download/en_core_web_sm-3.8.0/en_core_web_sm-3.8.0-py3-none-any.whl (12.8 MB)\n",
            "\u001b[2K     \u001b[90m━━━━━━━━━━━━━━━━━━━━━━━━━━━━━━━━━━━━━━━━\u001b[0m \u001b[32m12.8/12.8 MB\u001b[0m \u001b[31m28.1 MB/s\u001b[0m  \u001b[33m0:00:00\u001b[0m\n",
            "\u001b[?25h\u001b[38;5;2m✔ Download and installation successful\u001b[0m\n",
            "You can now load the package via spacy.load('en_core_web_sm')\n",
            "\u001b[38;5;3m⚠ Restart to reload dependencies\u001b[0m\n",
            "If you are in a Jupyter or Colab notebook, you may need to restart Python in\n",
            "order to load all the package's dependencies. You can do this by selecting the\n",
            "'Restart kernel' or 'Restart runtime' option.\n"
          ]
        }
      ],
      "source": [
        "!python -m spacy download en"
      ]
    },
    {
      "cell_type": "code",
      "source": [
        "!python -m spacy download en_core_web_lg"
      ],
      "metadata": {
        "colab": {
          "base_uri": "https://localhost:8080/"
        },
        "id": "D5DJv4bnO6Ip",
        "outputId": "e508729a-5eca-4dd4-b442-4be6f1b572ed"
      },
      "execution_count": 2,
      "outputs": [
        {
          "output_type": "stream",
          "name": "stdout",
          "text": [
            "Collecting en-core-web-lg==3.8.0\n",
            "  Downloading https://github.com/explosion/spacy-models/releases/download/en_core_web_lg-3.8.0/en_core_web_lg-3.8.0-py3-none-any.whl (400.7 MB)\n",
            "\u001b[2K     \u001b[90m━━━━━━━━━━━━━━━━━━━━━━━━━━━━━━━━━━━━━━━━\u001b[0m \u001b[32m400.7/400.7 MB\u001b[0m \u001b[31m22.1 MB/s\u001b[0m  \u001b[33m0:00:13\u001b[0m\n",
            "\u001b[?25hInstalling collected packages: en-core-web-lg\n",
            "Successfully installed en-core-web-lg-3.8.0\n",
            "\u001b[38;5;2m✔ Download and installation successful\u001b[0m\n",
            "You can now load the package via spacy.load('en_core_web_lg')\n",
            "\u001b[38;5;3m⚠ Restart to reload dependencies\u001b[0m\n",
            "If you are in a Jupyter or Colab notebook, you may need to restart Python in\n",
            "order to load all the package's dependencies. You can do this by selecting the\n",
            "'Restart kernel' or 'Restart runtime' option.\n"
          ]
        }
      ]
    },
    {
      "cell_type": "code",
      "execution_count": 1,
      "metadata": {
        "id": "Bnx6907QCv0r"
      },
      "outputs": [],
      "source": [
        "#Make sure one of the languages is downloaded e.g., python -m spacy download en_core_web_lg\n",
        "import spacy\n",
        "#parser = spacy.load('en') #specifies the language model\n",
        "nlp = spacy.load(\"en_core_web_lg\")"
      ]
    },
    {
      "cell_type": "markdown",
      "metadata": {
        "id": "AnU7Pl8lCv0r"
      },
      "source": [
        "# Tokenization in spaCy"
      ]
    },
    {
      "cell_type": "markdown",
      "metadata": {
        "id": "8ItekpusCv0r"
      },
      "source": [
        "Tokenization is the process of breaking up a sequences of texts into words, keywords, phrases, symbols, or sentences called tokens.   \n",
        "Each individual part is known as a **token**.\n",
        "Typically punctuation is removed.\n",
        "The input to the tokenizer is a unicode text, and the output is a Doc object.\n",
        "To construct a Doc object, you need a Vocab instance, a sequence of word strings, and optionally a sequence of spaces booleans, which allow you to maintain alignment of the tokens into the original string.\n",
        "\n",
        "Important note spaCy’s tokenization is non-destructive, which means that you’ll always be able to reconstruct the original input from the tokenized output. Whitespace information is preserved in the tokens and no information is added or removed during tokenization. This is kind of a core principle of spaCy’s Doc object: doc.text == input_text should always hold true.\n",
        "\n",
        "During processing, spaCy first tokenizes the text, i.e. segments it into words, punctuation and so on. This is done by applying rules specific to each language. For example, punctuation at the end of a sentence should be split off – whereas “U.K.” should remain one token. Each Doc consists of individual tokens, and we can iterate over them"
      ]
    },
    {
      "cell_type": "markdown",
      "metadata": {
        "id": "3GXoL1LSCv0r"
      },
      "source": [
        "**Tokenizer exception**   \n",
        "Special-case rule to split a string into several tokens or prevent a token from being split when punctuation rules are applied.\n",
        "Prefix: Character(s) at the beginning, e.g. $, (, “, ¿.\n",
        "Suffix: Character(s) at the end, e.g. km, ), ”, !.\n",
        "Infix: Character(s) in between, e.g. -, --, /, ….\n",
        "\n",
        "First, the raw text is split on whitespace characters, similar to text.split(' '). Then, the tokenizer processes the text from left to right. On each substring, it performs two checks:\n",
        "\n",
        "Does the substring match a tokenizer exception rule? For example, “don’t” does not contain whitespace, but should be split into two tokens, “do” and “n’t”, while “U.K.” should always remain one token.\n",
        "Can a prefix, suffix or infix be split off? For example punctuation like commas, periods, hyphens or quotes.\n",
        "If there’s a match, the rule is applied and the tokenizer continues its loop, starting with the newly split substrings. This way, spaCy can split complex, nested tokens like combinations of abbreviations and multiple punctuation marks."
      ]
    },
    {
      "cell_type": "code",
      "execution_count": 2,
      "metadata": {
        "id": "wi2BjlfHCv0r",
        "outputId": "a4365b4a-8c60-4629-977c-43aa7969e977",
        "colab": {
          "base_uri": "https://localhost:8080/"
        }
      },
      "outputs": [
        {
          "output_type": "stream",
          "name": "stdout",
          "text": [
            "We hold these truths to be self-evident, that all men are created equal, that they are endowed, by their Creator, with certain unalienable Rights, that among these are Life, Liberty, and the pursuit of Happiness.  That to secure these rights, Governments are instituted among Men, deriving their just powers from the consent of the governed, That whenever any Form of Government becomes destructive of these ends, it is the Right of the People to alter or abolish it, and to institute new Government, laying its foundation on such principles, and organizing its powers in such form, as to them shall seem most likely to effect their Safety and Happiness.\n"
          ]
        }
      ],
      "source": [
        "#Preamble to the U.S. Declaration of Independence, 1776\n",
        "preamble='We hold these truths to be self-evident, that all men are created equal, that they are endowed, by their Creator, with certain unalienable Rights, that among these are Life, Liberty, and the pursuit of Happiness.  That to secure these rights, Governments are instituted among Men, deriving their just powers from the consent of the governed, That whenever any Form of Government becomes destructive of these ends, it is the Right of the People to alter or abolish it, and to institute new Government, laying its foundation on such principles, and organizing its powers in such form, as to them shall seem most likely to effect their Safety and Happiness.'\n",
        "print(preamble)"
      ]
    },
    {
      "cell_type": "code",
      "execution_count": 3,
      "metadata": {
        "id": "Kq1LXBxHCv0r",
        "outputId": "acf26cda-0c9d-439f-d653-eb0288f91168",
        "colab": {
          "base_uri": "https://localhost:8080/"
        }
      },
      "outputs": [
        {
          "output_type": "stream",
          "name": "stdout",
          "text": [
            "['We', 'hold', 'these', 'truths', 'to', 'be', 'self', '-', 'evident', ',', 'that', 'all', 'men', 'are', 'created', 'equal', ',', 'that', 'they', 'are', 'endowed', ',', 'by', 'their', 'Creator', ',', 'with', 'certain', 'unalienable', 'Rights', ',', 'that', 'among', 'these', 'are', 'Life', ',', 'Liberty', ',', 'and', 'the', 'pursuit', 'of', 'Happiness', '.', 'That', 'to', 'secure', 'these', 'rights', ',', 'Governments', 'are', 'instituted', 'among', 'Men', ',', 'deriving', 'their', 'just', 'powers', 'from', 'the', 'consent', 'of', 'the', 'governed', ',', 'That', 'whenever', 'any', 'Form', 'of', 'Government', 'becomes', 'destructive', 'of', 'these', 'ends', ',', 'it', 'is', 'the', 'Right', 'of', 'the', 'People', 'to', 'alter', 'or', 'abolish', 'it', ',', 'and', 'to', 'institute', 'new', 'Government', ',', 'laying', 'its', 'foundation', 'on', 'such', 'principles', ',', 'and', 'organizing', 'its', 'powers', 'in', 'such', 'form', ',', 'as', 'to', 'them', 'shall', 'seem', 'most', 'likely', 'to', 'effect', 'their', 'Safety', 'and', 'Happiness', '.']\n"
          ]
        }
      ],
      "source": [
        "#tokens = parser(preamble) #Alternatively to read data into a token object\n",
        "tokens = nlp(preamble) #Alternatively to read data into a token object\n",
        "\n",
        "# methods: rth_ checks verbatim text content, isspace() checks if string is a space\n",
        "token_words = [token.orth_ for token in tokens if not token.orth_.isspace()]\n",
        "print(token_words)"
      ]
    },
    {
      "cell_type": "code",
      "execution_count": 4,
      "metadata": {
        "id": "nUZx7eRNCv0s",
        "outputId": "5de920bf-6372-4bb2-9281-ca434e57af1e",
        "colab": {
          "base_uri": "https://localhost:8080/"
        }
      },
      "outputs": [
        {
          "output_type": "stream",
          "name": "stdout",
          "text": [
            "We hold these truths to be self-evident, that all men are created equal, that they are endowed, by their Creator, with certain unalienable Rights, that among these are Life, Liberty, and the pursuit of Happiness.  That to secure these rights, Governments are instituted among Men, deriving their just powers from the consent of the governed, That whenever any Form of Government becomes destructive of these ends, it is the Right of the People to alter or abolish it, and to institute new Government, laying its foundation on such principles, and organizing its powers in such form, as to them shall seem most likely to effect their Safety and Happiness.\n"
          ]
        }
      ],
      "source": [
        "#Alternatively to read data into a token object\n",
        "tokens = nlp(preamble)\n",
        "print(tokens)"
      ]
    },
    {
      "cell_type": "markdown",
      "metadata": {
        "id": "fITBq5JxCv0s"
      },
      "source": [
        "# Merging and splitting tokens  \n",
        "The `Doc.retokenize` context manager lets you merge and split tokens. Modifications to the tokenization are stored and performed all at once when the context manager exits. To merge several tokens into one single token, pass a Span to retokenizer.merge. An optional dictionary of attrs lets you set attributes that will be assigned to the merged token – for example, the lemma, part-of-speech tag or entity type. By default, the merged token will receive the same attributes as the merged span’s root."
      ]
    },
    {
      "cell_type": "code",
      "execution_count": 5,
      "metadata": {
        "id": "e915_knACv0s",
        "outputId": "d147e391-043d-458f-8c53-a56a4e44ce57",
        "colab": {
          "base_uri": "https://localhost:8080/"
        }
      },
      "outputs": [
        {
          "output_type": "stream",
          "name": "stdout",
          "text": [
            "Before: ['I', 'live', 'in', 'New', 'York']\n",
            "After: ['I', 'live', 'in', 'New York']\n"
          ]
        }
      ],
      "source": [
        "import spacy\n",
        "\n",
        "nlp = spacy.load(\"en_core_web_sm\")\n",
        "doc = nlp(\"I live in New York\")\n",
        "print(\"Before:\", [token.text for token in doc])\n",
        "\n",
        "with doc.retokenize() as retokenizer:\n",
        "    retokenizer.merge(doc[3:5], attrs={\"LEMMA\": \"new york\"})\n",
        "print(\"After:\", [token.text for token in doc])"
      ]
    },
    {
      "cell_type": "markdown",
      "metadata": {
        "id": "fnzgeYiaCv0s"
      },
      "source": [
        "# Part of Speech Tagging\n",
        "After tokenization, spaCy can parse and tag a given document object. This is where the statistical model comes in, which enables spaCy to make a prediction of which tag or label most likely applies in the context. A model consists of binary data and is produced by showing a system enough examples for it to make predictions that generalizes across the language – for example, a word following “the” in English is most likely a noun.\n",
        "\n",
        "Linguistic annotations are available as Token attributes. **Like many NLP libraries, spaCy encodes all strings to hash values to reduce memory usage and improve efficiency**. To obtain the readable string representation of an attribute we need to add an underscore _ to its name:"
      ]
    },
    {
      "cell_type": "code",
      "execution_count": 6,
      "metadata": {
        "id": "XF8j6gofCv0s",
        "outputId": "d1e1f9c9-842f-46fb-b222-f07a90927ddb",
        "colab": {
          "base_uri": "https://localhost:8080/"
        }
      },
      "outputs": [
        {
          "output_type": "stream",
          "name": "stdout",
          "text": [
            "Noun phrases: ['We', 'these truths', 'all men', 'they', 'their Creator', 'certain unalienable Rights', 'these', 'Life', 'Liberty', 'the pursuit', 'Happiness', 'these rights', 'Governments', 'Men', 'their just powers', 'the consent', 'any Form', 'Government', 'these ends', 'it', 'the Right', 'the People', 'it', 'new Government', 'its foundation', 'such principles', 'its powers', 'such form', 'them', 'their Safety', 'Happiness']\n"
          ]
        }
      ],
      "source": [
        "print(\"Noun phrases:\",[chunk.text for chunk in tokens.noun_chunks])"
      ]
    },
    {
      "cell_type": "code",
      "execution_count": 7,
      "metadata": {
        "id": "KsTA_HjGCv0s",
        "outputId": "bc2288c5-d55a-45cc-b7dd-9655132fc082",
        "colab": {
          "base_uri": "https://localhost:8080/"
        }
      },
      "outputs": [
        {
          "output_type": "stream",
          "name": "stdout",
          "text": [
            "Verb phrases: ['hold', 'create', 'endow', 'secure', 'institute', 'derive', 'govern', 'become', 'alter', 'abolish', 'institute', 'lay', 'organize', 'seem', 'effect']\n"
          ]
        }
      ],
      "source": [
        "print(\"Verb phrases:\",[token.lemma_ for token in tokens if token.pos_ ==\"VERB\"])"
      ]
    },
    {
      "cell_type": "code",
      "execution_count": 8,
      "metadata": {
        "id": "xdKCJooWCv0s",
        "outputId": "cbdc7974-8288-4f7d-80d2-a94f1bc90b7b",
        "colab": {
          "base_uri": "https://localhost:8080/"
        }
      },
      "outputs": [
        {
          "output_type": "stream",
          "name": "stdout",
          "text": [
            "Life, Liberty ORG\n",
            "Happiness PRODUCT\n",
            "Men ORG\n",
            "Form of Government ORG\n",
            "institute new Government ORG\n",
            "Safety and Happiness PRODUCT\n"
          ]
        }
      ],
      "source": [
        "#Find named entities, phrases and concepts\n",
        "for entity in tokens.ents:\n",
        "    print(entity.text, entity.label_)"
      ]
    },
    {
      "cell_type": "code",
      "execution_count": 9,
      "metadata": {
        "id": "D2lKMNb-Cv0s",
        "outputId": "584dfcfe-1c44-4cfa-cfdf-87e4755056df",
        "colab": {
          "base_uri": "https://localhost:8080/"
        }
      },
      "outputs": [
        {
          "output_type": "stream",
          "name": "stdout",
          "text": [
            "Apple Apple PROPN NNP nsubj Xxxxx True False\n",
            "is be AUX VBZ aux xx True True\n",
            "looking look VERB VBG ROOT xxxx True False\n",
            "at at ADP IN prep xx True True\n",
            "buying buy VERB VBG pcomp xxxx True False\n",
            "a a DET DT det x True True\n",
            "U.K. U.K. PROPN NNP dobj X.X. False False\n",
            "startup startup NOUN NN advcl xxxx True False\n",
            "for for ADP IN prep xxx True True\n",
            "$ $ SYM $ quantmod $ False False\n",
            "1 1 NUM CD compound d False False\n",
            "billion billion NUM CD pobj xxxx True False\n"
          ]
        }
      ],
      "source": [
        "nlp = spacy.load(\"en_core_web_lg\")\n",
        "doc = nlp(\"Apple is looking at buying a U.K. startup for $1 billion\")\n",
        "for token in doc:\n",
        "    print(token.text, token.lemma_, token.pos_, token.tag_, token.dep_,\n",
        "            token.shape_, token.is_alpha, token.is_stop)"
      ]
    },
    {
      "cell_type": "code",
      "execution_count": 10,
      "metadata": {
        "id": "UYDAciO8Cv0s",
        "outputId": "66e8fd28-24c7-43f5-9d6f-c8ec2a81fbae",
        "colab": {
          "base_uri": "https://localhost:8080/"
        }
      },
      "outputs": [
        {
          "output_type": "stream",
          "name": "stdout",
          "text": [
            "['Mr.', 'Smith', 'loves', 'tacos', '.', 'He', 'has', 'a', 'Ph.D.', 'in', 'taco', '-', 'ology', '.']\n"
          ]
        }
      ],
      "source": [
        "#spaCy does not make a sentence segmentation error and treats Ph.D. correctly just like NLTK\n",
        "text2 = \"Mr. Smith loves tacos. He has a Ph.D. in taco-ology.\"\n",
        "tokens = nlp(text2)\n",
        "tokens = [token.orth_ for token in tokens if not token.orth_.isspace()]\n",
        "print(tokens)"
      ]
    },
    {
      "cell_type": "markdown",
      "metadata": {
        "id": "IWl4f9tfCv0t"
      },
      "source": [
        "A comparison to **nltk**.  Notice how the - in taco-ology separates words in **spaCy**."
      ]
    },
    {
      "cell_type": "code",
      "execution_count": 13,
      "metadata": {
        "id": "DEjp93d8Cv0t",
        "outputId": "e01a0229-85aa-4d8d-a6af-91e56d1db6a0",
        "colab": {
          "base_uri": "https://localhost:8080/"
        }
      },
      "outputs": [
        {
          "output_type": "stream",
          "name": "stderr",
          "text": [
            "[nltk_data] Downloading package punkt to /root/nltk_data...\n",
            "[nltk_data]   Package punkt is already up-to-date!\n",
            "[nltk_data] Downloading package punkt_tab to /root/nltk_data...\n",
            "[nltk_data]   Unzipping tokenizers/punkt_tab.zip.\n"
          ]
        },
        {
          "output_type": "stream",
          "name": "stdout",
          "text": [
            "['Mr.', 'Smith', 'loves', 'tacos', '.', 'He', 'has', 'a', 'Ph.D.', 'in', 'taco-ology', '.']\n"
          ]
        }
      ],
      "source": [
        "import nltk\n",
        "# Download the 'punkt' resource\n",
        "nltk.download('punkt')\n",
        "nltk.download('punkt_tab')\n",
        "text2 = \"Mr. Smith loves tacos. He has a Ph.D. in taco-ology.\"\n",
        "tokens = nltk.word_tokenize(text2)\n",
        "print(tokens)"
      ]
    },
    {
      "cell_type": "markdown",
      "metadata": {
        "id": "vcMuL2kGCv0t"
      },
      "source": [
        "<p>In earlier NL days of spaCy.en (English language) exceptions were added like:    \n",
        "\n",
        "<p>spacy.en.English.Defaults.tokenizer_exceptions[\"Ph.D.\"] = [{\"F\": \"Ph.D.\"}]  \n",
        "\n",
        "<p>What you're doing here is telling the tokenizer, \"when you see this chunk, 'Ph.D.', process it into these tokens\".\n",
        "<p>The list you're giving spaCy has just one token, and you've specified its form (with the F key).\n",
        "<p>You can also specify its POS and lemma (with P and L)."
      ]
    },
    {
      "cell_type": "code",
      "execution_count": 14,
      "metadata": {
        "id": "FE5z1TXMCv0t",
        "outputId": "d3950639-6cf9-4601-cc48-f9e8ef6b71bf",
        "colab": {
          "base_uri": "https://localhost:8080/"
        }
      },
      "outputs": [
        {
          "output_type": "execute_result",
          "data": {
            "text/plain": [
              "['__add__',\n",
              " '__class__',\n",
              " '__contains__',\n",
              " '__delattr__',\n",
              " '__dir__',\n",
              " '__doc__',\n",
              " '__eq__',\n",
              " '__format__',\n",
              " '__ge__',\n",
              " '__getattribute__',\n",
              " '__getitem__',\n",
              " '__getnewargs__',\n",
              " '__getstate__',\n",
              " '__gt__',\n",
              " '__hash__',\n",
              " '__init__',\n",
              " '__init_subclass__',\n",
              " '__iter__',\n",
              " '__le__',\n",
              " '__len__',\n",
              " '__lt__',\n",
              " '__mod__',\n",
              " '__mul__',\n",
              " '__ne__',\n",
              " '__new__',\n",
              " '__reduce__',\n",
              " '__reduce_ex__',\n",
              " '__repr__',\n",
              " '__rmod__',\n",
              " '__rmul__',\n",
              " '__setattr__',\n",
              " '__sizeof__',\n",
              " '__str__',\n",
              " '__subclasshook__',\n",
              " 'capitalize',\n",
              " 'casefold',\n",
              " 'center',\n",
              " 'count',\n",
              " 'encode',\n",
              " 'endswith',\n",
              " 'expandtabs',\n",
              " 'find',\n",
              " 'format',\n",
              " 'format_map',\n",
              " 'index',\n",
              " 'isalnum',\n",
              " 'isalpha',\n",
              " 'isascii',\n",
              " 'isdecimal',\n",
              " 'isdigit',\n",
              " 'isidentifier',\n",
              " 'islower',\n",
              " 'isnumeric',\n",
              " 'isprintable',\n",
              " 'isspace',\n",
              " 'istitle',\n",
              " 'isupper',\n",
              " 'join',\n",
              " 'ljust',\n",
              " 'lower',\n",
              " 'lstrip',\n",
              " 'maketrans',\n",
              " 'partition',\n",
              " 'removeprefix',\n",
              " 'removesuffix',\n",
              " 'replace',\n",
              " 'rfind',\n",
              " 'rindex',\n",
              " 'rjust',\n",
              " 'rpartition',\n",
              " 'rsplit',\n",
              " 'rstrip',\n",
              " 'split',\n",
              " 'splitlines',\n",
              " 'startswith',\n",
              " 'strip',\n",
              " 'swapcase',\n",
              " 'title',\n",
              " 'translate',\n",
              " 'upper',\n",
              " 'zfill']"
            ]
          },
          "metadata": {},
          "execution_count": 14
        }
      ],
      "source": [
        "# Following methods can be used on tokens.\n",
        "dir(tokens[0])"
      ]
    },
    {
      "cell_type": "code",
      "execution_count": 15,
      "metadata": {
        "id": "PbFBIAdyCv0t"
      },
      "outputs": [],
      "source": [
        "# Define a function that prints the most essential attributes of a token.\n",
        "def print_token(tokens):\n",
        "    print(\"==========================\")\n",
        "    print(\"value:\",token.text)   #  Verbatim text\n",
        "    print(\"lemma:\",token.lemma_) # lemma is the root of a word\n",
        "    print(\"shape:\",token.shape_) # shape is capitalization and punctuation"
      ]
    },
    {
      "cell_type": "code",
      "execution_count": 16,
      "metadata": {
        "scrolled": true,
        "id": "wjRBbXoBCv0t",
        "outputId": "081414bc-1f76-4a71-d03c-9f63101fc3e1",
        "colab": {
          "base_uri": "https://localhost:8080/"
        }
      },
      "outputs": [
        {
          "output_type": "stream",
          "name": "stdout",
          "text": [
            "==========================\n",
            "value: Jack\n",
            "lemma: Jack\n",
            "shape: Xxxx\n",
            "==========================\n",
            "value: flew\n",
            "lemma: fly\n",
            "shape: xxxx\n",
            "==========================\n",
            "value: to\n",
            "lemma: to\n",
            "shape: xx\n",
            "==========================\n",
            "value: the\n",
            "lemma: the\n",
            "shape: xxx\n",
            "==========================\n",
            "value: store\n",
            "lemma: store\n",
            "shape: xxxx\n",
            "==========================\n",
            "value: because\n",
            "lemma: because\n",
            "shape: xxxx\n",
            "==========================\n",
            "value: he\n",
            "lemma: he\n",
            "shape: xx\n",
            "==========================\n",
            "value: was\n",
            "lemma: be\n",
            "shape: xxx\n",
            "==========================\n",
            "value: hungry\n",
            "lemma: hungry\n",
            "shape: xxxx\n",
            "==========================\n",
            "value: and\n",
            "lemma: and\n",
            "shape: xxx\n",
            "==========================\n",
            "value: forgot\n",
            "lemma: forget\n",
            "shape: xxxx\n",
            "==========================\n",
            "value: milk\n",
            "lemma: milk\n",
            "shape: xxxx\n",
            "==========================\n",
            "value: and\n",
            "lemma: and\n",
            "shape: xxx\n",
            "==========================\n",
            "value: eggs\n",
            "lemma: egg\n",
            "shape: xxxx\n",
            "==========================\n",
            "value: .\n",
            "lemma: .\n",
            "shape: .\n"
          ]
        }
      ],
      "source": [
        "# Note the lemma for \"was/be\" and \"flew/fly\"\n",
        "text3 = \"Jack flew to the store because he was hungry and forgot milk and eggs.\"\n",
        "tokens = nlp(text3)\n",
        "for token in tokens:\n",
        "    print_token(token)"
      ]
    },
    {
      "cell_type": "code",
      "execution_count": 17,
      "metadata": {
        "id": "hRgUXG3wCv0t",
        "outputId": "c5978057-baf5-4473-854e-8dbf0feedf8d",
        "colab": {
          "base_uri": "https://localhost:8080/"
        }
      },
      "outputs": [
        {
          "output_type": "stream",
          "name": "stdout",
          "text": [
            "Collecting de-core-news-sm==3.8.0\n",
            "  Downloading https://github.com/explosion/spacy-models/releases/download/de_core_news_sm-3.8.0/de_core_news_sm-3.8.0-py3-none-any.whl (14.6 MB)\n",
            "\u001b[2K     \u001b[90m━━━━━━━━━━━━━━━━━━━━━━━━━━━━━━━━━━━━━━━━\u001b[0m \u001b[32m14.6/14.6 MB\u001b[0m \u001b[31m21.4 MB/s\u001b[0m  \u001b[33m0:00:00\u001b[0m\n",
            "\u001b[?25hInstalling collected packages: de-core-news-sm\n",
            "Successfully installed de-core-news-sm-3.8.0\n",
            "\u001b[38;5;2m✔ Download and installation successful\u001b[0m\n",
            "You can now load the package via spacy.load('de_core_news_sm')\n",
            "\u001b[38;5;3m⚠ Restart to reload dependencies\u001b[0m\n",
            "If you are in a Jupyter or Colab notebook, you may need to restart Python in\n",
            "order to load all the package's dependencies. You can do this by selecting the\n",
            "'Restart kernel' or 'Restart runtime' option.\n"
          ]
        }
      ],
      "source": [
        "# Alternative, load the German language\n",
        "!python -m spacy download de_core_news_sm\n",
        "import de_core_news_sm\n",
        "nlp2 = de_core_news_sm.load()   # notice that we using module_name.load()"
      ]
    },
    {
      "cell_type": "code",
      "execution_count": 18,
      "metadata": {
        "id": "ilX-anilCv0t",
        "outputId": "c3571fa3-952d-4565-dcf0-5d8599bff51b",
        "colab": {
          "base_uri": "https://localhost:8080/"
        }
      },
      "outputs": [
        {
          "output_type": "stream",
          "name": "stdout",
          "text": [
            "When Sebastian Thrun started working on self-driving cars at Google in 2007, few people outside of the company took him seriously. “I can tell you very senior CEOs of major American car companies would shake my hand and turn away because I wasn’t worth talking to,” said Thrun, in an interview with Recode earlier this week.\n"
          ]
        }
      ],
      "source": [
        "# Load English tokenizer, tagger, parser, NER and word vectors\n",
        "nlp = spacy.load(\"en_core_web_sm\")\n",
        "\n",
        "# Process whole documents\n",
        "text = (\"When Sebastian Thrun started working on self-driving cars at \"\n",
        "        \"Google in 2007, few people outside of the company took him \"\n",
        "        \"seriously. “I can tell you very senior CEOs of major American \"\n",
        "        \"car companies would shake my hand and turn away because I wasn’t \"\n",
        "        \"worth talking to,” said Thrun, in an interview with Recode earlier \"\n",
        "        \"this week.\")\n",
        "doc = nlp(text)\n",
        "print(doc)"
      ]
    },
    {
      "cell_type": "code",
      "execution_count": 19,
      "metadata": {
        "id": "7Qc9PIiNCv0t",
        "outputId": "0c5915ea-cc95-46c0-d51e-5bcd41f93d6f",
        "colab": {
          "base_uri": "https://localhost:8080/"
        }
      },
      "outputs": [
        {
          "output_type": "stream",
          "name": "stdout",
          "text": [
            "Noun phrases: ['Sebastian Thrun', 'self-driving cars', 'Google', 'few people', 'the company', 'him', 'I', 'you', 'very senior CEOs', 'major American car companies', 'my hand', 'I', 'Thrun', 'an interview', 'Recode']\n",
            "******************\n",
            "Verbs: ['start', 'work', 'drive', 'take', 'tell', 'shake', 'turn', 'talk', 'say']\n",
            "******************\n",
            "Sebastian Thrun PERSON\n",
            "Google ORG\n",
            "2007 DATE\n",
            "American NORP\n",
            "Thrun GPE\n",
            "Recode ORG\n",
            "earlier this week DATE\n"
          ]
        }
      ],
      "source": [
        "# Analyze syntax\n",
        "print(\"Noun phrases:\", [chunk.text for chunk in doc.noun_chunks])\n",
        "print('******************')\n",
        "print(\"Verbs:\", [token.lemma_ for token in doc if token.pos_ == \"VERB\"])\n",
        "print('******************')\n",
        "# Find named entities, phrases and concepts\n",
        "for entity in doc.ents:\n",
        "    print(entity.text, entity.label_)"
      ]
    },
    {
      "cell_type": "code",
      "execution_count": 20,
      "metadata": {
        "id": "xBLdjR5cCv0t",
        "outputId": "266d9998-9465-4d84-8861-cc90ba147ada",
        "colab": {
          "base_uri": "https://localhost:8080/"
        }
      },
      "outputs": [
        {
          "output_type": "stream",
          "name": "stdout",
          "text": [
            "Apple Apple PROPN NNP nsubj Xxxxx True False\n",
            "is be AUX VBZ aux xx True True\n",
            "looking look VERB VBG ROOT xxxx True False\n",
            "at at ADP IN prep xx True True\n",
            "buying buy VERB VBG pcomp xxxx True False\n",
            "U.K. U.K. PROPN NNP nsubj X.X. False False\n",
            "startup startup VERB VBD ccomp xxxx True False\n",
            "for for ADP IN prep xxx True True\n",
            "$ $ SYM $ quantmod $ False False\n",
            "1 1 NUM CD compound d False False\n",
            "billion billion NUM CD pobj xxxx True False\n"
          ]
        }
      ],
      "source": [
        "import spacy\n",
        "\n",
        "nlp = spacy.load('en_core_web_sm')\n",
        "doc = nlp(u'Apple is looking at buying U.K. startup for $1 billion')\n",
        "\n",
        "for token in doc:\n",
        "    print(token.text, token.lemma_, token.pos_, token.tag_, token.dep_,\n",
        "            token.shape_, token.is_alpha, token.is_stop)"
      ]
    },
    {
      "cell_type": "markdown",
      "metadata": {
        "id": "BynC-5uNCv0u"
      },
      "source": [
        "Text: The original word text.   \n",
        "Lemma: The base form of the word.   \n",
        "POS: The simple part-of-speech tag.   \n",
        "Tag: The detailed part-of-speech tag.\n",
        "Dep: Syntactic dependency, i.e. the relation between tokens.   \n",
        "Shape: The word shape – capitalization, punctuation, digits.\n",
        "isalpha: Is the token an alpha character?   \n",
        "isstop: Is the token part of a stop list.  "
      ]
    },
    {
      "cell_type": "markdown",
      "metadata": {
        "id": "njZ1vsBkCv0x"
      },
      "source": [
        "To understand entities:   \n",
        "Use:  \n",
        "**spacy.explain**"
      ]
    },
    {
      "cell_type": "code",
      "execution_count": 21,
      "metadata": {
        "id": "-FA9Ei3-Cv0x",
        "outputId": "0bd05fc0-6a07-4218-c6f3-7251c07511db",
        "colab": {
          "base_uri": "https://localhost:8080/",
          "height": 35
        }
      },
      "outputs": [
        {
          "output_type": "execute_result",
          "data": {
            "text/plain": [
              "'verb, 3rd person singular present'"
            ],
            "application/vnd.google.colaboratory.intrinsic+json": {
              "type": "string"
            }
          },
          "metadata": {},
          "execution_count": 21
        }
      ],
      "source": [
        "spacy.explain(\"VBZ\")"
      ]
    },
    {
      "cell_type": "markdown",
      "metadata": {
        "id": "9Y__XW7CCv0x"
      },
      "source": [
        "# Visualizer\n",
        "\n",
        "Visualizing a dependency parse or named entities in a text is not only a fun NLP demo – it can also be incredibly helpful in speeding up development and debugging your code and training proces\n",
        "Using spaCy’s built-in displaCy visualizer, here’s what our example sentence and its dependencies look like:"
      ]
    },
    {
      "cell_type": "code",
      "execution_count": 22,
      "metadata": {
        "id": "JYoB8fINCv0x",
        "outputId": "2bf56570-afee-42bf-ae99-1b089a3cdfca",
        "colab": {
          "base_uri": "https://localhost:8080/"
        }
      },
      "outputs": [
        {
          "output_type": "execute_result",
          "data": {
            "text/plain": [
              "<module 'spacy.displacy' from '/usr/local/lib/python3.12/dist-packages/spacy/displacy/__init__.py'>"
            ]
          },
          "metadata": {},
          "execution_count": 22
        }
      ],
      "source": [
        "spacy.displacy"
      ]
    },
    {
      "cell_type": "code",
      "execution_count": 23,
      "metadata": {
        "id": "tAEEpgScCv0x",
        "outputId": "42acb3b1-913b-4fcd-da7b-6750199f5a1e",
        "colab": {
          "base_uri": "https://localhost:8080/",
          "height": 672
        }
      },
      "outputs": [
        {
          "output_type": "stream",
          "name": "stderr",
          "text": [
            "/usr/local/lib/python3.12/dist-packages/spacy/displacy/__init__.py:106: UserWarning: [W011] It looks like you're calling displacy.serve from within a Jupyter notebook or a similar environment. This likely means you're already running a local web server, so there's no need to make displaCy start another one. Instead, you should be able to replace displacy.serve with displacy.render to show the visualization.\n",
            "  warnings.warn(Warnings.W011)\n"
          ]
        },
        {
          "output_type": "display_data",
          "data": {
            "text/plain": [
              "<IPython.core.display.HTML object>"
            ],
            "text/html": [
              "<span class=\"tex2jax_ignore\"><!DOCTYPE html>\n",
              "<html lang=\"en\">\n",
              "    <head>\n",
              "        <title>displaCy</title>\n",
              "    </head>\n",
              "\n",
              "    <body style=\"font-size: 16px; font-family: -apple-system, BlinkMacSystemFont, 'Segoe UI', Helvetica, Arial, sans-serif, 'Apple Color Emoji', 'Segoe UI Emoji', 'Segoe UI Symbol'; padding: 4rem 2rem; direction: ltr\">\n",
              "<figure style=\"margin-bottom: 6rem\">\n",
              "<svg xmlns=\"http://www.w3.org/2000/svg\" xmlns:xlink=\"http://www.w3.org/1999/xlink\" xml:lang=\"en\" id=\"029339828557466d8eecae36ef5a62fc-0\" class=\"displacy\" width=\"1975\" height=\"399.5\" direction=\"ltr\" style=\"max-width: none; height: 399.5px; color: #000000; background: #ffffff; font-family: Arial; direction: ltr\">\n",
              "<text class=\"displacy-token\" fill=\"currentColor\" text-anchor=\"middle\" y=\"309.5\">\n",
              "    <tspan class=\"displacy-word\" fill=\"currentColor\" x=\"50\">Apple</tspan>\n",
              "    <tspan class=\"displacy-tag\" dy=\"2em\" fill=\"currentColor\" x=\"50\">PROPN</tspan>\n",
              "</text>\n",
              "\n",
              "<text class=\"displacy-token\" fill=\"currentColor\" text-anchor=\"middle\" y=\"309.5\">\n",
              "    <tspan class=\"displacy-word\" fill=\"currentColor\" x=\"225\">is</tspan>\n",
              "    <tspan class=\"displacy-tag\" dy=\"2em\" fill=\"currentColor\" x=\"225\">AUX</tspan>\n",
              "</text>\n",
              "\n",
              "<text class=\"displacy-token\" fill=\"currentColor\" text-anchor=\"middle\" y=\"309.5\">\n",
              "    <tspan class=\"displacy-word\" fill=\"currentColor\" x=\"400\">looking</tspan>\n",
              "    <tspan class=\"displacy-tag\" dy=\"2em\" fill=\"currentColor\" x=\"400\">VERB</tspan>\n",
              "</text>\n",
              "\n",
              "<text class=\"displacy-token\" fill=\"currentColor\" text-anchor=\"middle\" y=\"309.5\">\n",
              "    <tspan class=\"displacy-word\" fill=\"currentColor\" x=\"575\">at</tspan>\n",
              "    <tspan class=\"displacy-tag\" dy=\"2em\" fill=\"currentColor\" x=\"575\">ADP</tspan>\n",
              "</text>\n",
              "\n",
              "<text class=\"displacy-token\" fill=\"currentColor\" text-anchor=\"middle\" y=\"309.5\">\n",
              "    <tspan class=\"displacy-word\" fill=\"currentColor\" x=\"750\">buying</tspan>\n",
              "    <tspan class=\"displacy-tag\" dy=\"2em\" fill=\"currentColor\" x=\"750\">VERB</tspan>\n",
              "</text>\n",
              "\n",
              "<text class=\"displacy-token\" fill=\"currentColor\" text-anchor=\"middle\" y=\"309.5\">\n",
              "    <tspan class=\"displacy-word\" fill=\"currentColor\" x=\"925\">U.K.</tspan>\n",
              "    <tspan class=\"displacy-tag\" dy=\"2em\" fill=\"currentColor\" x=\"925\">PROPN</tspan>\n",
              "</text>\n",
              "\n",
              "<text class=\"displacy-token\" fill=\"currentColor\" text-anchor=\"middle\" y=\"309.5\">\n",
              "    <tspan class=\"displacy-word\" fill=\"currentColor\" x=\"1100\">startup</tspan>\n",
              "    <tspan class=\"displacy-tag\" dy=\"2em\" fill=\"currentColor\" x=\"1100\">VERB</tspan>\n",
              "</text>\n",
              "\n",
              "<text class=\"displacy-token\" fill=\"currentColor\" text-anchor=\"middle\" y=\"309.5\">\n",
              "    <tspan class=\"displacy-word\" fill=\"currentColor\" x=\"1275\">for</tspan>\n",
              "    <tspan class=\"displacy-tag\" dy=\"2em\" fill=\"currentColor\" x=\"1275\">ADP</tspan>\n",
              "</text>\n",
              "\n",
              "<text class=\"displacy-token\" fill=\"currentColor\" text-anchor=\"middle\" y=\"309.5\">\n",
              "    <tspan class=\"displacy-word\" fill=\"currentColor\" x=\"1450\">$</tspan>\n",
              "    <tspan class=\"displacy-tag\" dy=\"2em\" fill=\"currentColor\" x=\"1450\">SYM</tspan>\n",
              "</text>\n",
              "\n",
              "<text class=\"displacy-token\" fill=\"currentColor\" text-anchor=\"middle\" y=\"309.5\">\n",
              "    <tspan class=\"displacy-word\" fill=\"currentColor\" x=\"1625\">1</tspan>\n",
              "    <tspan class=\"displacy-tag\" dy=\"2em\" fill=\"currentColor\" x=\"1625\">NUM</tspan>\n",
              "</text>\n",
              "\n",
              "<text class=\"displacy-token\" fill=\"currentColor\" text-anchor=\"middle\" y=\"309.5\">\n",
              "    <tspan class=\"displacy-word\" fill=\"currentColor\" x=\"1800\">billion</tspan>\n",
              "    <tspan class=\"displacy-tag\" dy=\"2em\" fill=\"currentColor\" x=\"1800\">NUM</tspan>\n",
              "</text>\n",
              "\n",
              "<g class=\"displacy-arrow\">\n",
              "    <path class=\"displacy-arc\" id=\"arrow-029339828557466d8eecae36ef5a62fc-0-0\" stroke-width=\"2px\" d=\"M70,264.5 C70,89.5 395.0,89.5 395.0,264.5\" fill=\"none\" stroke=\"currentColor\"/>\n",
              "    <text dy=\"1.25em\" style=\"font-size: 0.8em; letter-spacing: 1px\">\n",
              "        <textPath xlink:href=\"#arrow-029339828557466d8eecae36ef5a62fc-0-0\" class=\"displacy-label\" startOffset=\"50%\" side=\"left\" fill=\"currentColor\" text-anchor=\"middle\">nsubj</textPath>\n",
              "    </text>\n",
              "    <path class=\"displacy-arrowhead\" d=\"M70,266.5 L62,254.5 78,254.5\" fill=\"currentColor\"/>\n",
              "</g>\n",
              "\n",
              "<g class=\"displacy-arrow\">\n",
              "    <path class=\"displacy-arc\" id=\"arrow-029339828557466d8eecae36ef5a62fc-0-1\" stroke-width=\"2px\" d=\"M245,264.5 C245,177.0 390.0,177.0 390.0,264.5\" fill=\"none\" stroke=\"currentColor\"/>\n",
              "    <text dy=\"1.25em\" style=\"font-size: 0.8em; letter-spacing: 1px\">\n",
              "        <textPath xlink:href=\"#arrow-029339828557466d8eecae36ef5a62fc-0-1\" class=\"displacy-label\" startOffset=\"50%\" side=\"left\" fill=\"currentColor\" text-anchor=\"middle\">aux</textPath>\n",
              "    </text>\n",
              "    <path class=\"displacy-arrowhead\" d=\"M245,266.5 L237,254.5 253,254.5\" fill=\"currentColor\"/>\n",
              "</g>\n",
              "\n",
              "<g class=\"displacy-arrow\">\n",
              "    <path class=\"displacy-arc\" id=\"arrow-029339828557466d8eecae36ef5a62fc-0-2\" stroke-width=\"2px\" d=\"M420,264.5 C420,177.0 565.0,177.0 565.0,264.5\" fill=\"none\" stroke=\"currentColor\"/>\n",
              "    <text dy=\"1.25em\" style=\"font-size: 0.8em; letter-spacing: 1px\">\n",
              "        <textPath xlink:href=\"#arrow-029339828557466d8eecae36ef5a62fc-0-2\" class=\"displacy-label\" startOffset=\"50%\" side=\"left\" fill=\"currentColor\" text-anchor=\"middle\">prep</textPath>\n",
              "    </text>\n",
              "    <path class=\"displacy-arrowhead\" d=\"M565.0,266.5 L573.0,254.5 557.0,254.5\" fill=\"currentColor\"/>\n",
              "</g>\n",
              "\n",
              "<g class=\"displacy-arrow\">\n",
              "    <path class=\"displacy-arc\" id=\"arrow-029339828557466d8eecae36ef5a62fc-0-3\" stroke-width=\"2px\" d=\"M595,264.5 C595,177.0 740.0,177.0 740.0,264.5\" fill=\"none\" stroke=\"currentColor\"/>\n",
              "    <text dy=\"1.25em\" style=\"font-size: 0.8em; letter-spacing: 1px\">\n",
              "        <textPath xlink:href=\"#arrow-029339828557466d8eecae36ef5a62fc-0-3\" class=\"displacy-label\" startOffset=\"50%\" side=\"left\" fill=\"currentColor\" text-anchor=\"middle\">pcomp</textPath>\n",
              "    </text>\n",
              "    <path class=\"displacy-arrowhead\" d=\"M740.0,266.5 L748.0,254.5 732.0,254.5\" fill=\"currentColor\"/>\n",
              "</g>\n",
              "\n",
              "<g class=\"displacy-arrow\">\n",
              "    <path class=\"displacy-arc\" id=\"arrow-029339828557466d8eecae36ef5a62fc-0-4\" stroke-width=\"2px\" d=\"M945,264.5 C945,177.0 1090.0,177.0 1090.0,264.5\" fill=\"none\" stroke=\"currentColor\"/>\n",
              "    <text dy=\"1.25em\" style=\"font-size: 0.8em; letter-spacing: 1px\">\n",
              "        <textPath xlink:href=\"#arrow-029339828557466d8eecae36ef5a62fc-0-4\" class=\"displacy-label\" startOffset=\"50%\" side=\"left\" fill=\"currentColor\" text-anchor=\"middle\">nsubj</textPath>\n",
              "    </text>\n",
              "    <path class=\"displacy-arrowhead\" d=\"M945,266.5 L937,254.5 953,254.5\" fill=\"currentColor\"/>\n",
              "</g>\n",
              "\n",
              "<g class=\"displacy-arrow\">\n",
              "    <path class=\"displacy-arc\" id=\"arrow-029339828557466d8eecae36ef5a62fc-0-5\" stroke-width=\"2px\" d=\"M770,264.5 C770,89.5 1095.0,89.5 1095.0,264.5\" fill=\"none\" stroke=\"currentColor\"/>\n",
              "    <text dy=\"1.25em\" style=\"font-size: 0.8em; letter-spacing: 1px\">\n",
              "        <textPath xlink:href=\"#arrow-029339828557466d8eecae36ef5a62fc-0-5\" class=\"displacy-label\" startOffset=\"50%\" side=\"left\" fill=\"currentColor\" text-anchor=\"middle\">ccomp</textPath>\n",
              "    </text>\n",
              "    <path class=\"displacy-arrowhead\" d=\"M1095.0,266.5 L1103.0,254.5 1087.0,254.5\" fill=\"currentColor\"/>\n",
              "</g>\n",
              "\n",
              "<g class=\"displacy-arrow\">\n",
              "    <path class=\"displacy-arc\" id=\"arrow-029339828557466d8eecae36ef5a62fc-0-6\" stroke-width=\"2px\" d=\"M1120,264.5 C1120,177.0 1265.0,177.0 1265.0,264.5\" fill=\"none\" stroke=\"currentColor\"/>\n",
              "    <text dy=\"1.25em\" style=\"font-size: 0.8em; letter-spacing: 1px\">\n",
              "        <textPath xlink:href=\"#arrow-029339828557466d8eecae36ef5a62fc-0-6\" class=\"displacy-label\" startOffset=\"50%\" side=\"left\" fill=\"currentColor\" text-anchor=\"middle\">prep</textPath>\n",
              "    </text>\n",
              "    <path class=\"displacy-arrowhead\" d=\"M1265.0,266.5 L1273.0,254.5 1257.0,254.5\" fill=\"currentColor\"/>\n",
              "</g>\n",
              "\n",
              "<g class=\"displacy-arrow\">\n",
              "    <path class=\"displacy-arc\" id=\"arrow-029339828557466d8eecae36ef5a62fc-0-7\" stroke-width=\"2px\" d=\"M1470,264.5 C1470,89.5 1795.0,89.5 1795.0,264.5\" fill=\"none\" stroke=\"currentColor\"/>\n",
              "    <text dy=\"1.25em\" style=\"font-size: 0.8em; letter-spacing: 1px\">\n",
              "        <textPath xlink:href=\"#arrow-029339828557466d8eecae36ef5a62fc-0-7\" class=\"displacy-label\" startOffset=\"50%\" side=\"left\" fill=\"currentColor\" text-anchor=\"middle\">quantmod</textPath>\n",
              "    </text>\n",
              "    <path class=\"displacy-arrowhead\" d=\"M1470,266.5 L1462,254.5 1478,254.5\" fill=\"currentColor\"/>\n",
              "</g>\n",
              "\n",
              "<g class=\"displacy-arrow\">\n",
              "    <path class=\"displacy-arc\" id=\"arrow-029339828557466d8eecae36ef5a62fc-0-8\" stroke-width=\"2px\" d=\"M1645,264.5 C1645,177.0 1790.0,177.0 1790.0,264.5\" fill=\"none\" stroke=\"currentColor\"/>\n",
              "    <text dy=\"1.25em\" style=\"font-size: 0.8em; letter-spacing: 1px\">\n",
              "        <textPath xlink:href=\"#arrow-029339828557466d8eecae36ef5a62fc-0-8\" class=\"displacy-label\" startOffset=\"50%\" side=\"left\" fill=\"currentColor\" text-anchor=\"middle\">compound</textPath>\n",
              "    </text>\n",
              "    <path class=\"displacy-arrowhead\" d=\"M1645,266.5 L1637,254.5 1653,254.5\" fill=\"currentColor\"/>\n",
              "</g>\n",
              "\n",
              "<g class=\"displacy-arrow\">\n",
              "    <path class=\"displacy-arc\" id=\"arrow-029339828557466d8eecae36ef5a62fc-0-9\" stroke-width=\"2px\" d=\"M1295,264.5 C1295,2.0 1800.0,2.0 1800.0,264.5\" fill=\"none\" stroke=\"currentColor\"/>\n",
              "    <text dy=\"1.25em\" style=\"font-size: 0.8em; letter-spacing: 1px\">\n",
              "        <textPath xlink:href=\"#arrow-029339828557466d8eecae36ef5a62fc-0-9\" class=\"displacy-label\" startOffset=\"50%\" side=\"left\" fill=\"currentColor\" text-anchor=\"middle\">pobj</textPath>\n",
              "    </text>\n",
              "    <path class=\"displacy-arrowhead\" d=\"M1800.0,266.5 L1808.0,254.5 1792.0,254.5\" fill=\"currentColor\"/>\n",
              "</g>\n",
              "</svg>\n",
              "</figure>\n",
              "</body>\n",
              "</html></span>"
            ]
          },
          "metadata": {}
        },
        {
          "output_type": "stream",
          "name": "stdout",
          "text": [
            "\n",
            "Using the 'dep' visualizer\n",
            "Serving on http://0.0.0.0:5000 ...\n",
            "\n",
            "Shutting down server on port 5000.\n"
          ]
        }
      ],
      "source": [
        "### this cell migth stall your notebook. If it does not run quickly, just skip it.\n",
        "\n",
        "import spacy\n",
        "from spacy import displacy\n",
        "nlp = spacy.load(\"en_core_web_sm\")\n",
        "doc = nlp(u\"Apple is looking at buying U.K. startup for $1 billion\")\n",
        "displacy.serve(doc, style=\"dep\")  #ent or dep\n",
        "\n",
        "\n",
        "# https://spacy.io/usage/visualizers"
      ]
    },
    {
      "cell_type": "markdown",
      "metadata": {
        "id": "ZBkmULxnCv0x"
      },
      "source": [
        "# Dependency Parsing\n",
        "spaCy features a fast and accurate syntactic dependency parser, and has a rich API for navigating the tree. The parser also powers the sentence boundary detection, and lets you iterate over base noun phrases, or “chunks”. You can check whether a Doc object has been parsed with the doc.is_parsed attribute, which returns a boolean value. If this attribute is False, the default sentence iterator will raise an exception.\n",
        "\n",
        "# Noun chunks\n",
        "Noun chunks are “base noun phrases” – flat phrases that have a noun as their head. You can think of noun chunks as a noun plus the words describing the noun – for example, “the lavish green grass” or “the world’s largest tech fund”. To get the noun chunks in a document, simply iterate over Doc.noun_chunks"
      ]
    },
    {
      "cell_type": "code",
      "execution_count": 24,
      "metadata": {
        "id": "8GV5gQwvCv0x",
        "outputId": "9eb489fc-a6cb-431a-d0a6-b94b7d209a65",
        "colab": {
          "base_uri": "https://localhost:8080/"
        }
      },
      "outputs": [
        {
          "output_type": "stream",
          "name": "stdout",
          "text": [
            "Autonomous cars - cars - nsubj shift\n",
            "insurance liability - liability - dobj shift\n",
            "manufacturers - manufacturers - pobj toward\n"
          ]
        }
      ],
      "source": [
        "import spacy\n",
        "\n",
        "nlp = spacy.load(\"en_core_web_sm\")\n",
        "doc = nlp(u\"Autonomous cars shift insurance liability toward manufacturers\")\n",
        "for chunk in doc.noun_chunks:\n",
        "    print(chunk.text,'-', chunk.root.text, '-', chunk.root.dep_,\n",
        "            chunk.root.head.text)"
      ]
    },
    {
      "cell_type": "markdown",
      "metadata": {
        "id": "SZFjACo3Cv0x"
      },
      "source": [
        "Text: The original noun chunk text.  \n",
        "Root text: The original text of the word connecting the noun chunk to the rest of the parse.   \n",
        "Root dep: Dependency relation connecting the root to its head.  \n",
        "Root head text: The text of the root token’s head."
      ]
    },
    {
      "cell_type": "markdown",
      "metadata": {
        "id": "3ul9UFYQCv0y"
      },
      "source": [
        "`TEXT\tROOT.TEXT\tROOT.DEP_\tROOT.HEAD.TEXT\n",
        "Autonomous cars\tcars\tnsubj\tshift\n",
        "insurance liability\tliability\tdobj\tshift\n",
        "manufacturers\tmanufacturers\tpobj\ttoward`"
      ]
    },
    {
      "cell_type": "markdown",
      "metadata": {
        "id": "-lc1s30RCv0y"
      },
      "source": [
        "Navigating the parse tree\n",
        "spaCy uses the terms head and child to describe the words connected by a single arc in the dependency tree. The term dep is used for the arc label, which describes the type of syntactic relation that connects the child to the head. As with other attributes, the value of .dep is a hash value. You can get the string value with .dep_."
      ]
    },
    {
      "cell_type": "code",
      "execution_count": 25,
      "metadata": {
        "scrolled": true,
        "id": "Zz6HcLjLCv0y",
        "outputId": "ac9dbaff-e6ff-48d7-b7bb-a868392bb370",
        "colab": {
          "base_uri": "https://localhost:8080/"
        }
      },
      "outputs": [
        {
          "output_type": "stream",
          "name": "stdout",
          "text": [
            "Autonomous amod cars NOUN []\n",
            "cars nsubj shift VERB [Autonomous]\n",
            "shift ROOT shift VERB [cars, liability, toward]\n",
            "insurance compound liability NOUN []\n",
            "liability dobj shift VERB [insurance]\n",
            "toward prep shift VERB [manufacturers]\n",
            "manufacturers pobj toward ADP []\n"
          ]
        }
      ],
      "source": [
        "import spacy\n",
        "\n",
        "nlp = spacy.load(\"en_core_web_sm\")\n",
        "doc = nlp(u\"Autonomous cars shift insurance liability toward manufacturers\")\n",
        "for token in doc:\n",
        "    print(token.text, token.dep_, token.head.text, token.head.pos_,\n",
        "            [child for child in token.children])"
      ]
    },
    {
      "cell_type": "markdown",
      "metadata": {
        "id": "wl4e7H9lCv0y"
      },
      "source": [
        "`Text: The original token text.   \n",
        "Dep: The syntactic relation connecting child to head.   \n",
        "Head text: The original text of the token head.   \n",
        "Head POS: The part-of-speech tag of the token head.   \n",
        "Children: The immediate syntactic dependents of the token.`\n",
        "\n"
      ]
    },
    {
      "cell_type": "markdown",
      "metadata": {
        "id": "XmLAmcZuCv0y"
      },
      "source": [
        "Because the syntactic relations form a tree, every word has exactly one head. You can therefore iterate over the arcs in the tree by iterating over the words in the sentence. This is usually the best way to match an arc of interest — from below:"
      ]
    },
    {
      "cell_type": "code",
      "execution_count": 26,
      "metadata": {
        "id": "SbV_dnaoCv0y",
        "outputId": "3ee93dd1-9b02-4c61-c4da-43fbdef98a45",
        "colab": {
          "base_uri": "https://localhost:8080/"
        }
      },
      "outputs": [
        {
          "output_type": "stream",
          "name": "stdout",
          "text": [
            "{shift}\n"
          ]
        }
      ],
      "source": [
        "import spacy\n",
        "from spacy.symbols import nsubj, VERB\n",
        "\n",
        "nlp = spacy.load(\"en_core_web_sm\")\n",
        "doc = nlp(u\"Autonomous cars shift insurance liability toward manufacturers\")\n",
        "\n",
        "# Finding a verb with a subject from below — good\n",
        "verbs = set()\n",
        "for possible_subject in doc:\n",
        "    if possible_subject.dep == nsubj and possible_subject.head.pos == VERB:\n",
        "        verbs.add(possible_subject.head)\n",
        "print(verbs)"
      ]
    },
    {
      "cell_type": "code",
      "execution_count": 27,
      "metadata": {
        "id": "7Nm8Gy9kCv0y",
        "outputId": "8db3f83e-9480-4207-96bb-b53bfb3f8abd",
        "colab": {
          "base_uri": "https://localhost:8080/"
        }
      },
      "outputs": [
        {
          "output_type": "stream",
          "name": "stdout",
          "text": [
            "[shift]\n"
          ]
        }
      ],
      "source": [
        "# Finding a verb with a subject from above — less good\n",
        "verbs = []\n",
        "for possible_verb in doc:\n",
        "    if possible_verb.pos == VERB:\n",
        "        for possible_subject in possible_verb.children:\n",
        "            if possible_subject.dep == nsubj:\n",
        "                verbs.append(possible_verb)\n",
        "                break\n",
        "print(verbs)"
      ]
    },
    {
      "cell_type": "code",
      "execution_count": 28,
      "metadata": {
        "id": "Lb6r8bAXCv0y",
        "outputId": "5d50fb65-e2ea-43d2-d37f-43086016a654",
        "colab": {
          "base_uri": "https://localhost:8080/"
        }
      },
      "outputs": [
        {
          "output_type": "stream",
          "name": "stdout",
          "text": [
            "['bright', 'red']\n",
            "['on']\n",
            "2\n",
            "1\n"
          ]
        }
      ],
      "source": [
        "import spacy\n",
        "\n",
        "nlp = spacy.load(\"en_core_web_sm\")\n",
        "doc = nlp(u\"bright red apples on the tree\")\n",
        "print([token.text for token in doc[2].lefts])  # ['bright', 'red']\n",
        "print([token.text for token in doc[2].rights])  # ['on']\n",
        "print(doc[2].n_lefts)  # 2\n",
        "print(doc[2].n_rights)  # 1"
      ]
    },
    {
      "cell_type": "markdown",
      "metadata": {
        "id": "9AVLyASECv0y"
      },
      "source": [
        "# Named Entity Recognition  \n",
        "A named entity is a “real-world object” that’s assigned a name – for example, a person, a country, a product or a book title.     \n",
        "\n",
        "spaCy recognizes named entities in a document by asking the model for a prediction. Because models are statistical and strongly depend on the examples they were trained on, this doesn’t always work perfectly and might need some tuning later, depending on your use case.    \n",
        "\n",
        "spaCy features an extremely fast statistical entity recognition system, that assigns labels to contiguous spans of tokens. The default model identifies a variety of named and numeric entities, including companies, locations, organizations and products. You can add arbitrary classes to the entity recognition system, and update the model with new examples.  "
      ]
    },
    {
      "cell_type": "code",
      "execution_count": 29,
      "metadata": {
        "scrolled": true,
        "id": "XZvOU7x9Cv0y",
        "outputId": "0ec07f7a-0b49-4eec-cc4d-be5b327bb954",
        "colab": {
          "base_uri": "https://localhost:8080/"
        }
      },
      "outputs": [
        {
          "output_type": "stream",
          "name": "stdout",
          "text": [
            "Apple 0 5 ORG\n",
            "U.K. 27 31 GPE\n",
            "$1 billion 44 54 MONEY\n",
            "John 60 64 PERSON\n",
            "Peter 66 71 PERSON\n",
            "Harvard University 77 95 ORG\n"
          ]
        }
      ],
      "source": [
        "import spacy\n",
        "\n",
        "nlp = spacy.load(\"en_core_web_sm\")\n",
        "doc = nlp(u\"Apple is looking at buying U.K. startup for $1 billion from John, Peter from Harvard University\")\n",
        "\n",
        "for ent in doc.ents:\n",
        "    print(ent.text, ent.start_char, ent.end_char, ent.label_)"
      ]
    },
    {
      "cell_type": "markdown",
      "metadata": {
        "id": "kmO9s1NuCv0y"
      },
      "source": [
        "`Text: The original entity text.     \n",
        "Start: Index of start of entity in the Doc.   \n",
        "End: Index of end of entity in the Doc.    \n",
        "LabeL: Entity label, i.e. type. `"
      ]
    },
    {
      "cell_type": "markdown",
      "metadata": {
        "id": "lWoz-1KUCv0y"
      },
      "source": [
        "`TEXT\tSTART\tEND\tLABEL\tDESCRIPTION\n",
        "Apple\t0\t5\tORG\tCompanies, agencies, institutions.\n",
        "U.K.\t27\t31\tGPE\tGeopolitical entity, i.e. countries, cities, states.\n",
        "$1 billion\t44\t54\tMONEY\tMonetary values, including unit.`"
      ]
    },
    {
      "cell_type": "code",
      "execution_count": 30,
      "metadata": {
        "id": "2skfbX91Cv0z",
        "outputId": "d2d06ed5-b45f-4599-f77c-8c9526e572b6",
        "colab": {
          "base_uri": "https://localhost:8080/"
        }
      },
      "outputs": [
        {
          "output_type": "stream",
          "name": "stdout",
          "text": [
            "Apple\n",
            "is\n",
            "looking\n",
            "at\n",
            "buying\n",
            "U.K.\n",
            "startup\n",
            "for\n",
            "$\n",
            "1\n",
            "billion\n"
          ]
        }
      ],
      "source": [
        "import spacy\n",
        "\n",
        "nlp = spacy.load(\"en_core_web_sm\")\n",
        "doc = nlp(u\"Apple is looking at buying U.K. startup for $1 billion\")\n",
        "for token in doc:\n",
        "    print(token.text)"
      ]
    },
    {
      "cell_type": "markdown",
      "metadata": {
        "id": "1SeitrlqCv0z"
      },
      "source": [
        "# Sentence Segmentation\n",
        "A Doc object’s sentences are available via the `Doc.sents` property.\n",
        "\n",
        "\n",
        "spaCy uses the dependency parser to determine sentence boundaries.\n",
        "**This is usually more accurate than a rule-based approach, but it also means you’ll need a statistical model and accurate predictions.** If your texts are closer to general-purpose news or web text, this should work well out-of-the-box. For social media or conversational text that doesn’t follow the same rules, your application may benefit from a custom rule-based implementation. You can either use the built-in Sentencizer or plug an entirely custom rule-based function into your processing pipeline.\n",
        "\n",
        "spaCy’s dependency parser respects already set boundaries, so you can preprocess your Doc using custom rules before it’s parsed. Depending on your text, this may also improve accuracy, since the parser is constrained to predict parses consistent with the sentence boundaries."
      ]
    },
    {
      "cell_type": "markdown",
      "metadata": {
        "id": "Nrdfg4gCCv0z"
      },
      "source": [
        "To view a Doc’s sentences, you can iterate over the `Doc.sents`, a generator that yields Span objects."
      ]
    },
    {
      "cell_type": "code",
      "execution_count": 31,
      "metadata": {
        "id": "f5_03MpcCv0z",
        "outputId": "8418eff1-5167-4a25-d053-2ecf0d6687c5",
        "colab": {
          "base_uri": "https://localhost:8080/"
        }
      },
      "outputs": [
        {
          "output_type": "stream",
          "name": "stdout",
          "text": [
            "This is a sentence.\n",
            "This is another sentence.\n"
          ]
        }
      ],
      "source": [
        "import spacy\n",
        "\n",
        "nlp = spacy.load(\"en_core_web_sm\")\n",
        "doc = nlp(u\"This is a sentence. This is another sentence.\")\n",
        "for sent in doc.sents:\n",
        "    print(sent.text)"
      ]
    },
    {
      "cell_type": "markdown",
      "metadata": {
        "id": "0ux9lYEbCv0z"
      },
      "source": [
        "# Rule-based pipeline component\n",
        "The Sentencizer component is a pipeline component that splits sentences on punctuation like ., ! or ?. You can plug it into your pipeline if you only need sentence boundaries without the dependency parse."
      ]
    },
    {
      "cell_type": "markdown",
      "metadata": {
        "id": "nKCOwPq6Cv0z"
      },
      "source": [
        "# Word Vectors and Semantic Similarity\n",
        "**TRAINING WORD VECTORS**    \n",
        "Dense, real valued vectors representing distributional similarity information are now a cornerstone of practical NLP. The most common way to train these vectors is the Word2vec methods. If you need to train a word2vec model we recommend the implementation using Gensim.  \n",
        "\n",
        "Similarity is determined by comparing word vectors or “word embeddings”, multi-dimensional meaning representations of a word. Word vectors can be generated using an algorithm like word2vec.  A few examples:\n",
        "\n",
        "array([2.0228000e-01, -7.66180009e-02, 3.70219992e-01, ... dtype=float32)  \n",
        "Data in text8:   \n",
        "71291 300  \n",
        "santamaria -0.328541 0.143057 0.200979 ..."
      ]
    },
    {
      "cell_type": "markdown",
      "metadata": {
        "id": "NcXg0w4DCv0z"
      },
      "source": [
        "NOTE:  \n",
        "**spaCy’s** small models (packages that end in sm) don’t ship with word vectors for compactness purposes. They only include context-sensitive tensors. This means you can still use the `similarity()` methods to compare documents, spans and tokens – but the result won’t be as good, and individual tokens won’t have any vectors assigned. So in order to use real word vectors, you need to download a larger model:  `en_vectors_web_lg` or `en_vectors_web_lg`."
      ]
    },
    {
      "cell_type": "code",
      "execution_count": 32,
      "metadata": {
        "id": "fIFbR8OUCv0z",
        "outputId": "10a41f3d-8647-4e70-b0a7-8ba44bbfb1f5",
        "colab": {
          "base_uri": "https://localhost:8080/"
        }
      },
      "outputs": [
        {
          "output_type": "execute_result",
          "data": {
            "text/plain": [
              "array([-6.53628111e-01, -2.72582591e-01,  7.55851209e-01, -3.38518351e-01,\n",
              "        7.17292070e-01, -5.46912551e-01,  8.01136851e-01,  5.15506327e-01,\n",
              "       -7.38260031e-01, -1.82679892e-02,  9.82448578e-01, -4.23690975e-01,\n",
              "       -1.65124789e-01,  5.30258298e-01, -3.09327871e-01,  4.89116251e-01,\n",
              "       -7.08359540e-01, -9.58337009e-01,  5.36737442e-02, -9.51538503e-01,\n",
              "       -3.57460469e-01,  9.38572884e-01, -1.01225924e+00,  4.11738336e-01,\n",
              "        9.36792314e-01, -5.03744483e-02,  1.33572221e+00, -2.68533468e-01,\n",
              "       -8.25521350e-03,  1.15692401e+00, -1.47220388e-01,  9.74646330e-01,\n",
              "        3.12593639e-01,  7.90017128e-01, -5.71897030e-01, -1.48412681e+00,\n",
              "       -7.79598951e-04,  1.31661212e+00, -2.36573040e-01, -5.53320408e-01,\n",
              "       -4.26156104e-01, -3.34733605e-01, -3.54300022e-01,  4.55052316e-01,\n",
              "        6.48095191e-01,  1.68348476e-01, -1.80712327e-01, -5.03206432e-01,\n",
              "       -5.11100471e-01, -9.16717768e-01,  9.92564082e-01,  3.29507262e-01,\n",
              "        1.62569046e-01, -4.33569103e-01, -4.85393316e-01, -7.93351710e-01,\n",
              "        2.88412273e-01, -7.19073266e-02,  1.40864074e-01, -6.26501441e-03,\n",
              "       -8.59274149e-01,  1.04019642e+00, -1.59085661e-01, -5.99471748e-01,\n",
              "       -2.99637794e-01,  8.63086879e-02,  3.41369122e-01, -5.90682149e-01,\n",
              "       -6.14157796e-01, -2.47204736e-01, -4.50232536e-01, -3.23736072e-02,\n",
              "        1.11343813e+00,  5.48249483e-01,  1.56023288e+00, -1.05238885e-01,\n",
              "        4.54533905e-01, -4.01944220e-01, -7.24616170e-01,  5.98245621e-01,\n",
              "        1.00352287e+00, -1.11429639e-01, -1.02237535e+00,  1.50332272e-01,\n",
              "       -1.17662370e-01,  7.07958221e-01,  8.25176299e-01, -5.46599030e-01,\n",
              "       -8.48624349e-01,  3.06375325e-01, -1.24242496e+00,  2.38947451e-01,\n",
              "        1.50717282e+00,  1.41211957e-01, -5.38252175e-01,  6.30837083e-01],\n",
              "      dtype=float32)"
            ]
          },
          "metadata": {},
          "execution_count": 32
        }
      ],
      "source": [
        "import spacy\n",
        "from spacy.lang.en import English\n",
        "nlp = spacy.load(\"en_core_web_sm\")\n",
        "banana = nlp(u\"banana\")\n",
        "banana.vector"
      ]
    },
    {
      "cell_type": "markdown",
      "metadata": {
        "id": "jqkkjoNOCv0z"
      },
      "source": [
        "Dense, real valued vectors representing distributional similarity information are now a cornerstone of practical NLP. The most common way to train these vectors is the Word2vec family of algorithms. If you need to train a word2vec model, we recommend Gensim, a library implemented in the Python.\n",
        "\n",
        "Models that come with built-in word vectors make them available as the `Token.vector` attribute. `Doc.vector` and `Span.vector` will default to an average of their token vectors. You can also check if a token has a vector assigned, and get the L2 norm, which can be used to normalize vectors."
      ]
    },
    {
      "cell_type": "code",
      "execution_count": 33,
      "metadata": {
        "id": "WPlWOduGCv0z",
        "outputId": "01705dc2-c607-4a70-ad81-6560d062e782",
        "colab": {
          "base_uri": "https://localhost:8080/"
        }
      },
      "outputs": [
        {
          "output_type": "stream",
          "name": "stdout",
          "text": [
            "dog True 6.1648946 True\n",
            "cat True 6.1186795 True\n",
            "banana True 6.7451453 True\n",
            "afskfsd True 6.307013 True\n"
          ]
        }
      ],
      "source": [
        "import spacy\n",
        "\n",
        "nlp = spacy.load('en_core_web_sm')\n",
        "tokens = nlp(u'dog cat banana afskfsd')\n",
        "\n",
        "for token in tokens:\n",
        "    print(token.text, token.has_vector, token.vector_norm, token.is_oov)"
      ]
    },
    {
      "cell_type": "markdown",
      "metadata": {
        "id": "rVpEl2k8Cv0z"
      },
      "source": [
        "`Text: The original token text.  \n",
        "has vector: Does the token have a vector representation?  \n",
        "Vector norm: The L2 norm of the token’s vector (the square root of the sum of the values squared)`  \n",
        "`OOV: Out-of-vocabulary`\n",
        "\n",
        "The words “dog”, “cat” and “banana” are all pretty common in English, so they’re part of the model’s vocabulary, and come with a vector. The word “afskfsd” on the other hand is a lot less common and out-of-vocabulary – so its vector representation consists of 300 dimensions of 0, which means it’s practically nonexistent. If your application will benefit from a large vocabulary with more vectors, you should consider using one of the larger models or loading in a full vector package. Example: en_vectors_web_lg, which includes over 1 million unique vectors.  \n",
        "  \n",
        "spaCy is able to compare two objects, and make a prediction of how similar they are. Predicting similarity is useful for building recommendation systems or flagging duplicates. For example, you can suggest a user content that’s similar to what they’re currently looking at, or label a support ticket as a duplicate if it’s very similar to an already existing one.  \n",
        "\n",
        "Use:  \n",
        "**.similarity()**"
      ]
    },
    {
      "cell_type": "code",
      "execution_count": 34,
      "metadata": {
        "id": "N48IPDJOCv00",
        "outputId": "7aa684b7-2eb1-4274-a165-360c2fd829e2",
        "colab": {
          "base_uri": "https://localhost:8080/"
        }
      },
      "outputs": [
        {
          "output_type": "stream",
          "name": "stdout",
          "text": [
            "dog dog 1.0\n",
            "dog cat 0.8016854524612427\n",
            "dog banana 0.2432764321565628\n",
            "dog ship 0.2047809213399887\n",
            "cat dog 0.8016854524612427\n",
            "cat cat 1.0\n",
            "cat banana 0.28154364228248596\n",
            "cat ship 0.17444920539855957\n",
            "banana dog 0.2432764321565628\n",
            "banana cat 0.28154364228248596\n",
            "banana banana 1.0\n",
            "banana ship 0.1547759622335434\n",
            "ship dog 0.2047809213399887\n",
            "ship cat 0.17444920539855957\n",
            "ship banana 0.1547759622335434\n",
            "ship ship 1.0\n"
          ]
        }
      ],
      "source": [
        "import spacy\n",
        "\n",
        "nlp = spacy.load('en_core_web_lg')  # make sure to use larger model!\n",
        "tokens = nlp(u'dog cat banana ship')\n",
        "\n",
        "for token1 in tokens:\n",
        "    for token2 in tokens:\n",
        "        print(token1.text, token2.text, token1.similarity(token2))"
      ]
    },
    {
      "cell_type": "markdown",
      "metadata": {
        "id": "Ez1QdZNdCv00"
      },
      "source": [
        "In this case, the model’s predictions are pretty on point. A dog is very similar to a cat, whereas a banana is not very similar to either of them. Identical tokens are obviously 100% similar to each other (just not always exactly 1.0, because of vector math and floating point imprecisions)."
      ]
    },
    {
      "cell_type": "code",
      "execution_count": null,
      "metadata": {
        "id": "3e4-JoDyCv00"
      },
      "outputs": [],
      "source": [
        "# !pip install notebook --upgrade"
      ]
    },
    {
      "cell_type": "markdown",
      "metadata": {
        "id": "6mdPqeZ1Cv00"
      },
      "source": [
        "### Importing Embedded Vector Models\n",
        "Models with names ending in _lg (large) contain severla hundreds or milions of 300 dimensional embedded vectors."
      ]
    },
    {
      "cell_type": "code",
      "execution_count": 35,
      "metadata": {
        "id": "kbtCSmd9Cv00",
        "outputId": "5125d9f6-7bd2-4c26-8b1f-587a493ac523",
        "colab": {
          "base_uri": "https://localhost:8080/"
        }
      },
      "outputs": [
        {
          "output_type": "stream",
          "name": "stdout",
          "text": [
            "dog True 7.0336733 False\n",
            "cat True 6.6808186 False\n",
            "banana True 6.700014 False\n",
            "afskfsd False 0.0 True\n"
          ]
        }
      ],
      "source": [
        "import spacy\n",
        "\n",
        "nlp = spacy.load(\"en_core_web_lg\")\n",
        "tokens = nlp(\"dog cat banana afskfsd\")\n",
        "\n",
        "for token in tokens:\n",
        "    print(token.text, token.has_vector, token.vector_norm, token.is_oov)"
      ]
    },
    {
      "cell_type": "markdown",
      "metadata": {
        "id": "jZ7Zq4LvCv00"
      },
      "source": [
        "`is_oov` identifies words not in the vocabulary, i.e out of vocabulary (oov)"
      ]
    },
    {
      "cell_type": "markdown",
      "metadata": {
        "id": "adKsreIeCv00"
      },
      "source": [
        "#### Similarity method\n",
        "Similarity method produces `cosine()` distance (similarity) betwen tokens."
      ]
    },
    {
      "cell_type": "code",
      "execution_count": 36,
      "metadata": {
        "id": "Y9v5_nzACv00",
        "outputId": "a77e9894-b48f-4e3d-8d75-21b3dd18385f",
        "colab": {
          "base_uri": "https://localhost:8080/"
        }
      },
      "outputs": [
        {
          "output_type": "stream",
          "name": "stdout",
          "text": [
            "dog dog 1.0\n",
            "dog cat 0.8016854524612427\n",
            "dog banana 0.2432764321565628\n",
            "cat dog 0.8016854524612427\n",
            "cat cat 1.0\n",
            "cat banana 0.28154364228248596\n",
            "banana dog 0.2432764321565628\n",
            "banana cat 0.28154364228248596\n",
            "banana banana 1.0\n"
          ]
        }
      ],
      "source": [
        "nlp = spacy.load(\"en_core_web_lg\")  # make sure to use larger model!\n",
        "tokens = nlp(\"dog cat banana\")\n",
        "\n",
        "for token1 in tokens:\n",
        "    for token2 in tokens:\n",
        "        print(token1.text, token2.text, token1.similarity(token2))"
      ]
    },
    {
      "cell_type": "markdown",
      "metadata": {
        "id": "roX_vwrKCv00"
      },
      "source": [
        "### Importing Embedded Vector Models\n",
        "Models with names ending in _lg (large) contain severla hundreds or milions of 300 dimensional embedded vectors."
      ]
    },
    {
      "cell_type": "code",
      "execution_count": 37,
      "metadata": {
        "id": "aB3_T7KOCv00",
        "outputId": "51447319-3820-4f37-c120-a514ffc0b5df",
        "colab": {
          "base_uri": "https://localhost:8080/"
        }
      },
      "outputs": [
        {
          "output_type": "stream",
          "name": "stdout",
          "text": [
            "dog True 7.0336733 False\n",
            "cat True 6.6808186 False\n",
            "banana True 6.700014 False\n",
            "afskfsd False 0.0 True\n"
          ]
        }
      ],
      "source": [
        "import spacy\n",
        "\n",
        "nlp = spacy.load(\"en_core_web_lg\")\n",
        "tokens = nlp(\"dog cat banana afskfsd\")\n",
        "\n",
        "for token in tokens:\n",
        "    print(token.text, token.has_vector, token.vector_norm, token.is_oov)"
      ]
    },
    {
      "cell_type": "markdown",
      "metadata": {
        "id": "CHvK-OU7Cv00"
      },
      "source": [
        "`is_oov` identifies words not in the vocabulary, i.e out of vocabulary (oov)"
      ]
    },
    {
      "cell_type": "markdown",
      "metadata": {
        "id": "oKFqcCW1Cv00"
      },
      "source": [
        "#### Similarity method\n",
        "Similarity method produces cosine() distance (similarity) betwen tokens."
      ]
    },
    {
      "cell_type": "code",
      "execution_count": 38,
      "metadata": {
        "id": "Pp9FoDIlCv00",
        "outputId": "f1143929-4f1c-4413-d35b-eac4d75a5198",
        "colab": {
          "base_uri": "https://localhost:8080/"
        }
      },
      "outputs": [
        {
          "output_type": "stream",
          "name": "stdout",
          "text": [
            "dog dog 1.0\n",
            "dog cat 0.8016854524612427\n",
            "dog banana 0.2432764321565628\n",
            "cat dog 0.8016854524612427\n",
            "cat cat 1.0\n",
            "cat banana 0.28154364228248596\n",
            "banana dog 0.2432764321565628\n",
            "banana cat 0.28154364228248596\n",
            "banana banana 1.0\n"
          ]
        }
      ],
      "source": [
        "nlp = spacy.load(\"en_core_web_lg\")  # make sure to use larger model!\n",
        "tokens = nlp(\"dog cat banana\")\n",
        "\n",
        "for token1 in tokens:\n",
        "    for token2 in tokens:\n",
        "        print(token1.text, token2.text, token1.similarity(token2))"
      ]
    },
    {
      "cell_type": "code",
      "execution_count": 39,
      "metadata": {
        "id": "hH-L1U4yCv01"
      },
      "outputs": [],
      "source": [
        "import numpy as np\n",
        "\n",
        "def load_glove_model(File):\n",
        "    print(\"Loading Glove Model\")\n",
        "    glove_model = {}\n",
        "    with open(File,'r', encoding='utf-8') as f:\n",
        "        for line in f:\n",
        "            split_line = line.split()\n",
        "            word = split_line[0]\n",
        "            embedding = np.array(split_line[1:], dtype=np.float64)\n",
        "            glove_model[word] = embedding\n",
        "    print(f\"{len(glove_model)} words loaded!\")\n",
        "    return glove_model"
      ]
    },
    {
      "cell_type": "code",
      "execution_count": 42,
      "metadata": {
        "id": "rBJUiirVCv01"
      },
      "outputs": [],
      "source": [
        "#glove = load_glove_model('glove.6B/glove.6B.100d.txt')"
      ]
    },
    {
      "cell_type": "code",
      "execution_count": 43,
      "metadata": {
        "id": "Hhsg14gwCv01"
      },
      "outputs": [],
      "source": [
        "#type(glove)"
      ]
    },
    {
      "cell_type": "code",
      "execution_count": 45,
      "metadata": {
        "id": "98hS94a7Cv01"
      },
      "outputs": [],
      "source": [
        "#glove.get('king')"
      ]
    },
    {
      "cell_type": "code",
      "execution_count": 47,
      "metadata": {
        "id": "Hxe1jhWhCv01"
      },
      "outputs": [],
      "source": [
        "# You can load Gloveimport pandas as pd\n",
        "#import csv\n",
        "#import pandas as pd\n",
        "\n",
        "#words = pd.read_table('glove.6B/glove.6B.100d.txt', sep=\" \", index_col=0, header=None, quoting=csv.QUOTE_NONE)"
      ]
    },
    {
      "cell_type": "code",
      "execution_count": 48,
      "metadata": {
        "id": "KyOixehsCv01"
      },
      "outputs": [],
      "source": [
        "# Then to get the vector for a word:\n",
        "\n",
        "#def vec(w):\n",
        "#  return words.loc[w]"
      ]
    },
    {
      "cell_type": "code",
      "execution_count": 51,
      "metadata": {
        "id": "oSjo_iQMCv01"
      },
      "outputs": [],
      "source": [
        "#vec('the')"
      ]
    },
    {
      "cell_type": "code",
      "execution_count": 52,
      "metadata": {
        "id": "SZf_I2GnCv01"
      },
      "outputs": [],
      "source": [
        "#word_matrix = words.to_numpy()\n",
        "\n",
        "# And to find the closest word to a vector:\n",
        "#def find_closest_word(v):\n",
        " # diff = word_matrix - v\n",
        " # delta = np.sum(diff * diff, axis=1)\n",
        " # i = np.argmin(delta)\n",
        " # return words.iloc[i].name"
      ]
    },
    {
      "cell_type": "code",
      "execution_count": 53,
      "metadata": {
        "id": "50A9iAOwCv01"
      },
      "outputs": [],
      "source": [
        "#find_closest_word(glove.get('france'))"
      ]
    },
    {
      "cell_type": "code",
      "execution_count": null,
      "metadata": {
        "id": "UuVjuNpCCv01"
      },
      "outputs": [],
      "source": []
    }
  ],
  "metadata": {
    "kernelspec": {
      "display_name": "Python 3 (ipykernel)",
      "language": "python",
      "name": "python3"
    },
    "language_info": {
      "codemirror_mode": {
        "name": "ipython",
        "version": 3
      },
      "file_extension": ".py",
      "mimetype": "text/x-python",
      "name": "python",
      "nbconvert_exporter": "python",
      "pygments_lexer": "ipython3",
      "version": "3.11.10"
    },
    "colab": {
      "provenance": []
    }
  },
  "nbformat": 4,
  "nbformat_minor": 0
}